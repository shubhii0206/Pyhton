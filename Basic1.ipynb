{
 "cells": [
  {
   "cell_type": "code",
   "execution_count": 1,
   "metadata": {},
   "outputs": [
    {
     "name": "stdout",
     "output_type": "stream",
     "text": [
      "Shubhi Yadav\n"
     ]
    }
   ],
   "source": [
    "name = \"Shubhi\"\n",
    "Name = \"Yadav\" #python is case sensitive\n",
    "print(name, Name)"
   ]
  },
  {
   "cell_type": "code",
   "execution_count": 2,
   "metadata": {},
   "outputs": [
    {
     "name": "stdout",
     "output_type": "stream",
     "text": [
      "35\n",
      "OK\n"
     ]
    }
   ],
   "source": [
    "# Indendation in python equivalent of{} in C/Java\n",
    "age = 35\n",
    "if age > 30:\n",
    "    print(age)\n",
    "print(\"OK\")"
   ]
  },
  {
   "cell_type": "code",
   "execution_count": 3,
   "metadata": {},
   "outputs": [
    {
     "name": "stdout",
     "output_type": "stream",
     "text": [
      "21\n"
     ]
    }
   ],
   "source": [
    "# line continuation \\+enter key to continue in next line if present line becomes short\n",
    "total = 1+2+3+4+5\\\n",
    "+6\n",
    "print(total)"
   ]
  },
  {
   "cell_type": "code",
   "execution_count": 7,
   "metadata": {},
   "outputs": [
    {
     "name": "stdout",
     "output_type": "stream",
     "text": [
      "15\n"
     ]
    }
   ],
   "source": [
    "# multiple statements in a sinle line   \n",
    "x = 5; y = 10; z = x + y; print(z) #; woorks not ,"
   ]
  },
  {
   "cell_type": "code",
   "execution_count": 1,
   "metadata": {},
   "outputs": [
    {
     "data": {
      "text/plain": [
       "int"
      ]
     },
     "execution_count": 1,
     "metadata": {},
     "output_type": "execute_result"
    }
   ],
   "source": [
    "#variable assignement in python, python knows the datatype at run time, no need to specify\n",
    "age = 32\n",
    "name = \"Shubhi\"\n",
    "type(age) #type inferencing at runtime\n",
    "\n"
   ]
  },
  {
   "cell_type": "code",
   "execution_count": 1,
   "metadata": {},
   "outputs": [
    {
     "name": "stdout",
     "output_type": "stream",
     "text": [
      "<class 'int'>\n",
      "<class 'str'>\n"
     ]
    }
   ],
   "source": [
    "#Dynamic inferencing, \n",
    "name = 12\n",
    "print(type(name))\n",
    "name = \"Shubhi\"\n",
    "print(type(name))"
   ]
  },
  {
   "cell_type": "code",
   "execution_count": 2,
   "metadata": {},
   "outputs": [
    {
     "name": "stdout",
     "output_type": "stream",
     "text": [
      "true statements always execute\n",
      "Will execute\n",
      "Outside if block\n"
     ]
    }
   ],
   "source": [
    "#indentation \n",
    "\n",
    "if True:\n",
    "    print(\"true statements always execute\")\n",
    "    if False:\n",
    "        print(\"Won't execute\")\n",
    "    print(\"Will execute\")\n",
    "print(\"Outside if block\")"
   ]
  },
  {
   "cell_type": "code",
   "execution_count": 4,
   "metadata": {},
   "outputs": [
    {
     "name": "stdout",
     "output_type": "stream",
     "text": [
      "OK\n"
     ]
    }
   ],
   "source": [
    "print(\"OK\")"
   ]
  },
  {
   "cell_type": "code",
   "execution_count": null,
   "metadata": {},
   "outputs": [],
   "source": []
  }
 ],
 "metadata": {
  "kernelspec": {
   "display_name": "Python 3",
   "language": "python",
   "name": "python3"
  },
  "language_info": {
   "codemirror_mode": {
    "name": "ipython",
    "version": 3
   },
   "file_extension": ".py",
   "mimetype": "text/x-python",
   "name": "python",
   "nbconvert_exporter": "python",
   "pygments_lexer": "ipython3",
   "version": "3.12.0"
  }
 },
 "nbformat": 4,
 "nbformat_minor": 2
}
