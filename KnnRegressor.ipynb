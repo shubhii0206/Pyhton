{
  "nbformat": 4,
  "nbformat_minor": 0,
  "metadata": {
    "colab": {
      "provenance": []
    },
    "kernelspec": {
      "name": "python3",
      "display_name": "Python 3"
    },
    "language_info": {
      "name": "python"
    }
  },
  "cells": [
    {
      "cell_type": "code",
      "execution_count": 3,
      "metadata": {
        "colab": {
          "base_uri": "https://localhost:8080/"
        },
        "id": "gASATYlBcBeZ",
        "outputId": "17dc45a5-af6e-4de8-ca8f-60ed4c254cd5"
      },
      "outputs": [
        {
          "output_type": "stream",
          "name": "stdout",
          "text": [
            "Mounted at /content/drive\n"
          ]
        }
      ],
      "source": [
        "from google.colab import drive\n",
        "drive.mount('/content/drive')"
      ]
    },
    {
      "cell_type": "code",
      "source": [
        "import pandas as pd\n",
        "import numpy as np\n",
        "import matplotlib.pyplot as plt\n",
        "df = pd.read_csv('/content/drive/MyDrive/regression_dataset.csv')\n",
        "df.head()"
      ],
      "metadata": {
        "colab": {
          "base_uri": "https://localhost:8080/",
          "height": 206
        },
        "id": "rkjA4feVcKFx",
        "outputId": "99d27e7d-3e57-466f-e5b6-a7d064dcce1b"
      },
      "execution_count": 4,
      "outputs": [
        {
          "output_type": "execute_result",
          "data": {
            "text/plain": [
              "   Feature_1  Feature_2  Feature_3  Feature_4  Feature_5     target\n",
              "0   2.056544   0.606851   0.482688  -1.130888   0.420094  74.905613\n",
              "1  -0.799192  -0.645964  -0.182896  -0.482744   1.374876 -41.649588\n",
              "2   1.076007  -0.796026  -0.751969   0.021312  -0.319054 -24.182866\n",
              "3  -0.103255  -0.828497   1.489863  -1.643189  -1.600904 -87.094505\n",
              "4  -2.063403   0.503252  -0.645572  -0.317350  -1.661083 -86.122029"
            ],
            "text/html": [
              "\n",
              "  <div id=\"df-49a07f2e-cd13-430e-9347-9b1ecd131f40\" class=\"colab-df-container\">\n",
              "    <div>\n",
              "<style scoped>\n",
              "    .dataframe tbody tr th:only-of-type {\n",
              "        vertical-align: middle;\n",
              "    }\n",
              "\n",
              "    .dataframe tbody tr th {\n",
              "        vertical-align: top;\n",
              "    }\n",
              "\n",
              "    .dataframe thead th {\n",
              "        text-align: right;\n",
              "    }\n",
              "</style>\n",
              "<table border=\"1\" class=\"dataframe\">\n",
              "  <thead>\n",
              "    <tr style=\"text-align: right;\">\n",
              "      <th></th>\n",
              "      <th>Feature_1</th>\n",
              "      <th>Feature_2</th>\n",
              "      <th>Feature_3</th>\n",
              "      <th>Feature_4</th>\n",
              "      <th>Feature_5</th>\n",
              "      <th>target</th>\n",
              "    </tr>\n",
              "  </thead>\n",
              "  <tbody>\n",
              "    <tr>\n",
              "      <th>0</th>\n",
              "      <td>2.056544</td>\n",
              "      <td>0.606851</td>\n",
              "      <td>0.482688</td>\n",
              "      <td>-1.130888</td>\n",
              "      <td>0.420094</td>\n",
              "      <td>74.905613</td>\n",
              "    </tr>\n",
              "    <tr>\n",
              "      <th>1</th>\n",
              "      <td>-0.799192</td>\n",
              "      <td>-0.645964</td>\n",
              "      <td>-0.182896</td>\n",
              "      <td>-0.482744</td>\n",
              "      <td>1.374876</td>\n",
              "      <td>-41.649588</td>\n",
              "    </tr>\n",
              "    <tr>\n",
              "      <th>2</th>\n",
              "      <td>1.076007</td>\n",
              "      <td>-0.796026</td>\n",
              "      <td>-0.751969</td>\n",
              "      <td>0.021312</td>\n",
              "      <td>-0.319054</td>\n",
              "      <td>-24.182866</td>\n",
              "    </tr>\n",
              "    <tr>\n",
              "      <th>3</th>\n",
              "      <td>-0.103255</td>\n",
              "      <td>-0.828497</td>\n",
              "      <td>1.489863</td>\n",
              "      <td>-1.643189</td>\n",
              "      <td>-1.600904</td>\n",
              "      <td>-87.094505</td>\n",
              "    </tr>\n",
              "    <tr>\n",
              "      <th>4</th>\n",
              "      <td>-2.063403</td>\n",
              "      <td>0.503252</td>\n",
              "      <td>-0.645572</td>\n",
              "      <td>-0.317350</td>\n",
              "      <td>-1.661083</td>\n",
              "      <td>-86.122029</td>\n",
              "    </tr>\n",
              "  </tbody>\n",
              "</table>\n",
              "</div>\n",
              "    <div class=\"colab-df-buttons\">\n",
              "\n",
              "  <div class=\"colab-df-container\">\n",
              "    <button class=\"colab-df-convert\" onclick=\"convertToInteractive('df-49a07f2e-cd13-430e-9347-9b1ecd131f40')\"\n",
              "            title=\"Convert this dataframe to an interactive table.\"\n",
              "            style=\"display:none;\">\n",
              "\n",
              "  <svg xmlns=\"http://www.w3.org/2000/svg\" height=\"24px\" viewBox=\"0 -960 960 960\">\n",
              "    <path d=\"M120-120v-720h720v720H120Zm60-500h600v-160H180v160Zm220 220h160v-160H400v160Zm0 220h160v-160H400v160ZM180-400h160v-160H180v160Zm440 0h160v-160H620v160ZM180-180h160v-160H180v160Zm440 0h160v-160H620v160Z\"/>\n",
              "  </svg>\n",
              "    </button>\n",
              "\n",
              "  <style>\n",
              "    .colab-df-container {\n",
              "      display:flex;\n",
              "      gap: 12px;\n",
              "    }\n",
              "\n",
              "    .colab-df-convert {\n",
              "      background-color: #E8F0FE;\n",
              "      border: none;\n",
              "      border-radius: 50%;\n",
              "      cursor: pointer;\n",
              "      display: none;\n",
              "      fill: #1967D2;\n",
              "      height: 32px;\n",
              "      padding: 0 0 0 0;\n",
              "      width: 32px;\n",
              "    }\n",
              "\n",
              "    .colab-df-convert:hover {\n",
              "      background-color: #E2EBFA;\n",
              "      box-shadow: 0px 1px 2px rgba(60, 64, 67, 0.3), 0px 1px 3px 1px rgba(60, 64, 67, 0.15);\n",
              "      fill: #174EA6;\n",
              "    }\n",
              "\n",
              "    .colab-df-buttons div {\n",
              "      margin-bottom: 4px;\n",
              "    }\n",
              "\n",
              "    [theme=dark] .colab-df-convert {\n",
              "      background-color: #3B4455;\n",
              "      fill: #D2E3FC;\n",
              "    }\n",
              "\n",
              "    [theme=dark] .colab-df-convert:hover {\n",
              "      background-color: #434B5C;\n",
              "      box-shadow: 0px 1px 3px 1px rgba(0, 0, 0, 0.15);\n",
              "      filter: drop-shadow(0px 1px 2px rgba(0, 0, 0, 0.3));\n",
              "      fill: #FFFFFF;\n",
              "    }\n",
              "  </style>\n",
              "\n",
              "    <script>\n",
              "      const buttonEl =\n",
              "        document.querySelector('#df-49a07f2e-cd13-430e-9347-9b1ecd131f40 button.colab-df-convert');\n",
              "      buttonEl.style.display =\n",
              "        google.colab.kernel.accessAllowed ? 'block' : 'none';\n",
              "\n",
              "      async function convertToInteractive(key) {\n",
              "        const element = document.querySelector('#df-49a07f2e-cd13-430e-9347-9b1ecd131f40');\n",
              "        const dataTable =\n",
              "          await google.colab.kernel.invokeFunction('convertToInteractive',\n",
              "                                                    [key], {});\n",
              "        if (!dataTable) return;\n",
              "\n",
              "        const docLinkHtml = 'Like what you see? Visit the ' +\n",
              "          '<a target=\"_blank\" href=https://colab.research.google.com/notebooks/data_table.ipynb>data table notebook</a>'\n",
              "          + ' to learn more about interactive tables.';\n",
              "        element.innerHTML = '';\n",
              "        dataTable['output_type'] = 'display_data';\n",
              "        await google.colab.output.renderOutput(dataTable, element);\n",
              "        const docLink = document.createElement('div');\n",
              "        docLink.innerHTML = docLinkHtml;\n",
              "        element.appendChild(docLink);\n",
              "      }\n",
              "    </script>\n",
              "  </div>\n",
              "\n",
              "\n",
              "<div id=\"df-6166435a-fead-4cda-a21e-cf812783c2bf\">\n",
              "  <button class=\"colab-df-quickchart\" onclick=\"quickchart('df-6166435a-fead-4cda-a21e-cf812783c2bf')\"\n",
              "            title=\"Suggest charts\"\n",
              "            style=\"display:none;\">\n",
              "\n",
              "<svg xmlns=\"http://www.w3.org/2000/svg\" height=\"24px\"viewBox=\"0 0 24 24\"\n",
              "     width=\"24px\">\n",
              "    <g>\n",
              "        <path d=\"M19 3H5c-1.1 0-2 .9-2 2v14c0 1.1.9 2 2 2h14c1.1 0 2-.9 2-2V5c0-1.1-.9-2-2-2zM9 17H7v-7h2v7zm4 0h-2V7h2v10zm4 0h-2v-4h2v4z\"/>\n",
              "    </g>\n",
              "</svg>\n",
              "  </button>\n",
              "\n",
              "<style>\n",
              "  .colab-df-quickchart {\n",
              "      --bg-color: #E8F0FE;\n",
              "      --fill-color: #1967D2;\n",
              "      --hover-bg-color: #E2EBFA;\n",
              "      --hover-fill-color: #174EA6;\n",
              "      --disabled-fill-color: #AAA;\n",
              "      --disabled-bg-color: #DDD;\n",
              "  }\n",
              "\n",
              "  [theme=dark] .colab-df-quickchart {\n",
              "      --bg-color: #3B4455;\n",
              "      --fill-color: #D2E3FC;\n",
              "      --hover-bg-color: #434B5C;\n",
              "      --hover-fill-color: #FFFFFF;\n",
              "      --disabled-bg-color: #3B4455;\n",
              "      --disabled-fill-color: #666;\n",
              "  }\n",
              "\n",
              "  .colab-df-quickchart {\n",
              "    background-color: var(--bg-color);\n",
              "    border: none;\n",
              "    border-radius: 50%;\n",
              "    cursor: pointer;\n",
              "    display: none;\n",
              "    fill: var(--fill-color);\n",
              "    height: 32px;\n",
              "    padding: 0;\n",
              "    width: 32px;\n",
              "  }\n",
              "\n",
              "  .colab-df-quickchart:hover {\n",
              "    background-color: var(--hover-bg-color);\n",
              "    box-shadow: 0 1px 2px rgba(60, 64, 67, 0.3), 0 1px 3px 1px rgba(60, 64, 67, 0.15);\n",
              "    fill: var(--button-hover-fill-color);\n",
              "  }\n",
              "\n",
              "  .colab-df-quickchart-complete:disabled,\n",
              "  .colab-df-quickchart-complete:disabled:hover {\n",
              "    background-color: var(--disabled-bg-color);\n",
              "    fill: var(--disabled-fill-color);\n",
              "    box-shadow: none;\n",
              "  }\n",
              "\n",
              "  .colab-df-spinner {\n",
              "    border: 2px solid var(--fill-color);\n",
              "    border-color: transparent;\n",
              "    border-bottom-color: var(--fill-color);\n",
              "    animation:\n",
              "      spin 1s steps(1) infinite;\n",
              "  }\n",
              "\n",
              "  @keyframes spin {\n",
              "    0% {\n",
              "      border-color: transparent;\n",
              "      border-bottom-color: var(--fill-color);\n",
              "      border-left-color: var(--fill-color);\n",
              "    }\n",
              "    20% {\n",
              "      border-color: transparent;\n",
              "      border-left-color: var(--fill-color);\n",
              "      border-top-color: var(--fill-color);\n",
              "    }\n",
              "    30% {\n",
              "      border-color: transparent;\n",
              "      border-left-color: var(--fill-color);\n",
              "      border-top-color: var(--fill-color);\n",
              "      border-right-color: var(--fill-color);\n",
              "    }\n",
              "    40% {\n",
              "      border-color: transparent;\n",
              "      border-right-color: var(--fill-color);\n",
              "      border-top-color: var(--fill-color);\n",
              "    }\n",
              "    60% {\n",
              "      border-color: transparent;\n",
              "      border-right-color: var(--fill-color);\n",
              "    }\n",
              "    80% {\n",
              "      border-color: transparent;\n",
              "      border-right-color: var(--fill-color);\n",
              "      border-bottom-color: var(--fill-color);\n",
              "    }\n",
              "    90% {\n",
              "      border-color: transparent;\n",
              "      border-bottom-color: var(--fill-color);\n",
              "    }\n",
              "  }\n",
              "</style>\n",
              "\n",
              "  <script>\n",
              "    async function quickchart(key) {\n",
              "      const quickchartButtonEl =\n",
              "        document.querySelector('#' + key + ' button');\n",
              "      quickchartButtonEl.disabled = true;  // To prevent multiple clicks.\n",
              "      quickchartButtonEl.classList.add('colab-df-spinner');\n",
              "      try {\n",
              "        const charts = await google.colab.kernel.invokeFunction(\n",
              "            'suggestCharts', [key], {});\n",
              "      } catch (error) {\n",
              "        console.error('Error during call to suggestCharts:', error);\n",
              "      }\n",
              "      quickchartButtonEl.classList.remove('colab-df-spinner');\n",
              "      quickchartButtonEl.classList.add('colab-df-quickchart-complete');\n",
              "    }\n",
              "    (() => {\n",
              "      let quickchartButtonEl =\n",
              "        document.querySelector('#df-6166435a-fead-4cda-a21e-cf812783c2bf button');\n",
              "      quickchartButtonEl.style.display =\n",
              "        google.colab.kernel.accessAllowed ? 'block' : 'none';\n",
              "    })();\n",
              "  </script>\n",
              "</div>\n",
              "\n",
              "    </div>\n",
              "  </div>\n"
            ],
            "application/vnd.google.colaboratory.intrinsic+json": {
              "type": "dataframe",
              "variable_name": "df",
              "summary": "{\n  \"name\": \"df\",\n  \"rows\": 1000,\n  \"fields\": [\n    {\n      \"column\": \"Feature_1\",\n      \"properties\": {\n        \"dtype\": \"number\",\n        \"std\": 0.9598420017569697,\n        \"min\": -3.007632339693757,\n        \"max\": 3.0788808084552377,\n        \"num_unique_values\": 1000,\n        \"samples\": [\n          -0.543424771133765,\n          -0.3570292008066094,\n          1.8071966436378848\n        ],\n        \"semantic_type\": \"\",\n        \"description\": \"\"\n      }\n    },\n    {\n      \"column\": \"Feature_2\",\n      \"properties\": {\n        \"dtype\": \"number\",\n        \"std\": 1.0053207497928607,\n        \"min\": -3.241267340069073,\n        \"max\": 3.152056734512085,\n        \"num_unique_values\": 1000,\n        \"samples\": [\n          -0.0327532702159983,\n          -1.5178737466808094,\n          1.450927548279212\n        ],\n        \"semantic_type\": \"\",\n        \"description\": \"\"\n      }\n    },\n    {\n      \"column\": \"Feature_3\",\n      \"properties\": {\n        \"dtype\": \"number\",\n        \"std\": 0.9992188872627089,\n        \"min\": -3.170425735878056,\n        \"max\": 3.926237706436327,\n        \"num_unique_values\": 1000,\n        \"samples\": [\n          -0.5736620068802363,\n          -0.2939669476641822,\n          -0.0774434607259936\n        ],\n        \"semantic_type\": \"\",\n        \"description\": \"\"\n      }\n    },\n    {\n      \"column\": \"Feature_4\",\n      \"properties\": {\n        \"dtype\": \"number\",\n        \"std\": 0.988835402272661,\n        \"min\": -3.1767038131960006,\n        \"max\": 3.852731490654721,\n        \"num_unique_values\": 1000,\n        \"samples\": [\n          -0.7128457826771644,\n          0.8903831635197862,\n          -1.6826586941226858\n        ],\n        \"semantic_type\": \"\",\n        \"description\": \"\"\n      }\n    },\n    {\n      \"column\": \"Feature_5\",\n      \"properties\": {\n        \"dtype\": \"number\",\n        \"std\": 1.0292480463637732,\n        \"min\": -2.94038863466428,\n        \"max\": 3.2430929695947333,\n        \"num_unique_values\": 1000,\n        \"samples\": [\n          -0.5468589412403921,\n          -0.0715992518580668,\n          -1.1952937635992449\n        ],\n        \"semantic_type\": \"\",\n        \"description\": \"\"\n      }\n    },\n    {\n      \"column\": \"target\",\n      \"properties\": {\n        \"dtype\": \"number\",\n        \"std\": 64.72227829928767,\n        \"min\": -223.0834366815274,\n        \"max\": 173.1379589811568,\n        \"num_unique_values\": 1000,\n        \"samples\": [\n          -54.692228587132014,\n          -64.36117982306618,\n          52.87950110686434\n        ],\n        \"semantic_type\": \"\",\n        \"description\": \"\"\n      }\n    }\n  ]\n}"
            }
          },
          "metadata": {},
          "execution_count": 4
        }
      ]
    },
    {
      "cell_type": "code",
      "source": [],
      "metadata": {
        "id": "66mKRo0tdHHu"
      },
      "execution_count": 4,
      "outputs": []
    },
    {
      "cell_type": "code",
      "source": [
        "X = df.iloc[:,0:5].values"
      ],
      "metadata": {
        "id": "ScSTt5E6fLJw"
      },
      "execution_count": 8,
      "outputs": []
    },
    {
      "cell_type": "code",
      "source": [
        "X.shape"
      ],
      "metadata": {
        "colab": {
          "base_uri": "https://localhost:8080/"
        },
        "id": "ikvLwySaolWf",
        "outputId": "45de0588-d9c9-4876-80be-d2c4b6c0b96c"
      },
      "execution_count": 9,
      "outputs": [
        {
          "output_type": "execute_result",
          "data": {
            "text/plain": [
              "(1000, 5)"
            ]
          },
          "metadata": {},
          "execution_count": 9
        }
      ]
    },
    {
      "cell_type": "code",
      "source": [
        "y = df.iloc[:, -1].values"
      ],
      "metadata": {
        "id": "NyuQtR27o875"
      },
      "execution_count": 10,
      "outputs": []
    },
    {
      "cell_type": "code",
      "source": [
        "# divide the data into training and testing datset\n",
        "from sklearn.model_selection import train_test_split\n",
        "X_train, X_test, y_train, y_test = train_test_split(X, y, test_size=0.2, random_state=0)"
      ],
      "metadata": {
        "id": "5H-Hz3TkpFVK"
      },
      "execution_count": 11,
      "outputs": []
    },
    {
      "cell_type": "code",
      "source": [
        "X_train.shape"
      ],
      "metadata": {
        "colab": {
          "base_uri": "https://localhost:8080/"
        },
        "id": "effSxNdzp70B",
        "outputId": "c1b3b417-16f2-4dbd-e2c0-30c61a3ba5df"
      },
      "execution_count": 12,
      "outputs": [
        {
          "output_type": "execute_result",
          "data": {
            "text/plain": [
              "(800, 5)"
            ]
          },
          "metadata": {},
          "execution_count": 12
        }
      ]
    },
    {
      "cell_type": "code",
      "source": [
        "y_train.shape"
      ],
      "metadata": {
        "colab": {
          "base_uri": "https://localhost:8080/"
        },
        "id": "h39-lJ_Wp-OB",
        "outputId": "800351e2-1346-43da-d6c3-1c467a7dbbb9"
      },
      "execution_count": 13,
      "outputs": [
        {
          "output_type": "execute_result",
          "data": {
            "text/plain": [
              "(800,)"
            ]
          },
          "metadata": {},
          "execution_count": 13
        }
      ]
    },
    {
      "cell_type": "code",
      "source": [
        "X_test.shape"
      ],
      "metadata": {
        "colab": {
          "base_uri": "https://localhost:8080/"
        },
        "id": "pfaoZ5dKp_7N",
        "outputId": "8d074e72-4314-4b02-f2ff-be11b4728343"
      },
      "execution_count": 14,
      "outputs": [
        {
          "output_type": "execute_result",
          "data": {
            "text/plain": [
              "(200, 5)"
            ]
          },
          "metadata": {},
          "execution_count": 14
        }
      ]
    },
    {
      "cell_type": "code",
      "source": [
        "from sklearn.preprocessing import StandardScaler\n",
        "sc = StandardScaler()\n",
        "X_train = sc.fit_transform(X_train)\n",
        "X_test = sc.transform(X_test)"
      ],
      "metadata": {
        "id": "SY7IYktAqDYp"
      },
      "execution_count": 15,
      "outputs": []
    },
    {
      "cell_type": "code",
      "source": [
        "X_train"
      ],
      "metadata": {
        "colab": {
          "base_uri": "https://localhost:8080/"
        },
        "id": "RrPnJECQqPEx",
        "outputId": "d1308e68-7424-499c-bbde-3621b872b0c0"
      },
      "execution_count": 16,
      "outputs": [
        {
          "output_type": "execute_result",
          "data": {
            "text/plain": [
              "array([[ 0.24339027, -0.68151701,  0.24433541,  0.28033411,  0.35094239],\n",
              "       [-2.00031195,  1.68616863,  0.6286018 ,  1.31117098, -0.66369733],\n",
              "       [ 0.8800788 , -0.50559954, -0.029809  ,  0.53716987, -0.95615053],\n",
              "       ...,\n",
              "       [ 1.00006545, -0.48486441, -0.13590359, -0.05563406,  1.3809658 ],\n",
              "       [ 1.14742103, -0.73466289,  1.25825956,  0.41423809, -0.63357754],\n",
              "       [-0.74054328, -1.39966643,  0.50159807, -0.28244141, -0.04130052]])"
            ]
          },
          "metadata": {},
          "execution_count": 16
        }
      ]
    },
    {
      "cell_type": "code",
      "source": [
        "X_test"
      ],
      "metadata": {
        "colab": {
          "base_uri": "https://localhost:8080/"
        },
        "id": "YAeAKvt0qQ6W",
        "outputId": "a3e764ff-790d-458a-bc5e-35eec797e2ac"
      },
      "execution_count": 17,
      "outputs": [
        {
          "output_type": "execute_result",
          "data": {
            "text/plain": [
              "array([[ 1.66714010e+00, -4.89238599e-01, -3.18638802e+00,\n",
              "         3.17988740e-03,  2.18997325e-01],\n",
              "       [ 1.23452291e+00,  1.17213826e-01, -7.57507198e-01,\n",
              "         5.19572192e-02,  1.52104030e+00],\n",
              "       [-1.60138719e+00,  1.56582639e+00,  1.14243944e+00,\n",
              "         1.63363144e+00, -7.40594880e-01],\n",
              "       [-4.48964072e-01, -3.60794099e-02, -1.33068128e+00,\n",
              "        -7.17493175e-01, -5.79749518e-01],\n",
              "       [-7.57371242e-01,  5.94700671e-01, -1.58608257e-01,\n",
              "        -2.14242018e-01, -1.34124816e+00],\n",
              "       [ 7.44382479e-01, -3.75150319e-01,  7.08166596e-01,\n",
              "         4.33417155e-01, -2.18975776e-01],\n",
              "       [-5.38424024e-01, -9.40870043e-02, -2.64514558e+00,\n",
              "         2.30171796e-01,  3.91665520e-01],\n",
              "       [-4.80731761e-01,  9.23514253e-01,  1.18965719e+00,\n",
              "        -1.10976337e+00,  1.00661785e+00],\n",
              "       [ 2.94025409e-01,  1.00175512e+00, -1.12202947e+00,\n",
              "         1.76422401e+00,  1.43656396e+00],\n",
              "       [-5.27327570e-01,  3.21968135e-01,  1.18905002e+00,\n",
              "        -9.89492424e-02, -1.71305042e+00],\n",
              "       [ 5.27836270e-01, -9.88383001e-01, -6.97341355e-02,\n",
              "        -5.53300277e-01,  9.42151389e-01],\n",
              "       [-2.76653694e-01,  1.46017028e+00,  8.22678685e-01,\n",
              "         2.73780684e+00,  2.70745301e-02],\n",
              "       [ 2.01887287e-01,  7.07325806e-02,  1.63361085e+00,\n",
              "         2.40564152e+00, -2.00246756e-01],\n",
              "       [-1.02853744e-01,  1.41740628e+00,  4.36331924e-01,\n",
              "         2.67925133e-03, -1.04463056e+00],\n",
              "       [-5.83969113e-01, -6.18506324e-01,  4.15919548e-01,\n",
              "        -1.13032937e+00,  8.29287538e-01],\n",
              "       [-7.37509233e-01,  4.21713890e-01, -1.21998342e+00,\n",
              "        -7.28733308e-02,  1.63897283e+00],\n",
              "       [ 6.19689867e-01,  6.76523212e-01,  4.32857083e-01,\n",
              "        -3.74877948e-01,  3.34992826e-02],\n",
              "       [ 1.33142887e+00,  1.07554156e+00, -2.50633238e-01,\n",
              "        -1.28605704e-01,  1.66683394e-02],\n",
              "       [ 6.82040569e-01,  9.58734836e-01,  5.65651374e-01,\n",
              "        -3.35621242e-01,  1.11739194e+00],\n",
              "       [ 1.12077643e+00,  1.65686362e+00, -7.15794015e-01,\n",
              "        -7.55140006e-01,  8.45425416e-01],\n",
              "       [ 4.29987158e-01, -5.65108608e-02,  5.79113504e-01,\n",
              "        -2.50367682e-01, -8.31433674e-02],\n",
              "       [-1.07318200e+00,  2.18548770e-01,  3.32647827e-01,\n",
              "         1.09819232e+00, -8.96536955e-01],\n",
              "       [-5.40147667e-01,  4.57571887e-01,  8.15819846e-01,\n",
              "        -2.15331720e-01, -1.82008973e-02],\n",
              "       [-4.68767387e-01,  1.25871424e+00, -5.94482417e-01,\n",
              "        -7.17320389e-01,  3.34099107e-01],\n",
              "       [ 7.02918102e-01, -1.59644383e-01, -1.88742238e+00,\n",
              "         1.99458584e-01,  1.26168009e-01],\n",
              "       [ 1.39081917e+00,  1.10923790e-01, -1.64282668e+00,\n",
              "         3.00697815e-01, -1.18743466e+00],\n",
              "       [ 1.00107014e-01, -1.56966591e+00, -1.97512625e+00,\n",
              "        -2.83151653e-01,  3.54052258e-01],\n",
              "       [-5.52550522e-02,  7.67869019e-01,  1.14069739e+00,\n",
              "        -5.74283833e-01, -1.33355504e+00],\n",
              "       [-1.34796005e+00, -1.28006843e+00,  8.84709840e-01,\n",
              "         2.79972646e-01,  5.71709381e-01],\n",
              "       [-8.36073895e-01, -6.47326700e-01, -1.90296040e-01,\n",
              "        -5.05191524e-01,  1.34982836e+00],\n",
              "       [ 5.03726496e-01,  7.29630160e-01,  1.22716158e-01,\n",
              "         2.10279737e-01,  1.20698487e-01],\n",
              "       [ 6.22766955e-01,  5.67156007e-01,  2.43986970e+00,\n",
              "         8.47690099e-01,  1.35895485e+00],\n",
              "       [ 2.11813835e+00,  1.86542900e-01,  2.08865225e+00,\n",
              "        -9.52133464e-03, -1.54703384e+00],\n",
              "       [ 1.17494992e+00,  1.54142670e+00,  1.09281459e+00,\n",
              "        -4.81925028e-01, -2.11386260e+00],\n",
              "       [ 1.26220048e-01, -1.41823435e-01,  6.17759719e-01,\n",
              "         5.04470951e-01, -1.02250624e+00],\n",
              "       [ 5.89502110e-01, -1.40279738e+00,  9.21956715e-01,\n",
              "        -6.75191891e-01,  1.86901359e+00],\n",
              "       [ 1.07579877e-01, -8.46442275e-01, -1.14290707e+00,\n",
              "        -5.05276645e-01,  3.54751740e-01],\n",
              "       [ 5.86432699e-02, -1.25167656e-01, -5.19556285e-01,\n",
              "         1.09147946e+00, -9.46731681e-01],\n",
              "       [-1.82038121e+00,  1.15424079e+00,  7.67035120e-01,\n",
              "        -3.83383310e-01, -2.75227034e+00],\n",
              "       [-2.77406032e+00,  1.51082143e+00,  9.98598812e-02,\n",
              "         1.08876120e+00, -2.33206713e-01],\n",
              "       [-2.61403294e+00, -1.06137462e+00, -6.77136160e-01,\n",
              "         1.86562178e-01, -4.48751091e-02],\n",
              "       [ 6.75577399e-01,  5.24206306e-01, -6.19267256e-02,\n",
              "         5.46151786e-01,  2.91797482e-01],\n",
              "       [-7.48757740e-01, -6.63357368e-02, -9.25693245e-01,\n",
              "         6.74181926e-01, -7.93481472e-01],\n",
              "       [-6.98925101e-01,  9.23829529e-01,  1.06719669e-01,\n",
              "         1.88033653e+00, -1.38251642e+00],\n",
              "       [-3.07839893e-01,  1.12460754e+00, -2.43262218e-01,\n",
              "         1.45453105e+00, -8.98030450e-01],\n",
              "       [-1.03468837e-01,  6.53776823e-01, -1.29084933e+00,\n",
              "         1.85334208e+00,  8.61841574e-01],\n",
              "       [ 2.69864637e-01,  1.76341415e-01,  3.98333534e-01,\n",
              "        -9.17839167e-02,  1.84645016e+00],\n",
              "       [ 2.06076330e-02,  6.49145781e-01,  8.35106816e-03,\n",
              "        -2.36576152e+00, -9.32358525e-01],\n",
              "       [ 1.07823426e+00, -6.44903155e-01,  4.79246741e-01,\n",
              "        -3.55371455e-01, -8.07598408e-01],\n",
              "       [ 2.39981321e-01, -7.34850905e-01,  7.67257198e-01,\n",
              "        -1.89756008e+00,  4.43076455e-01],\n",
              "       [-4.06102132e-01, -2.01400643e+00,  1.06589343e-01,\n",
              "        -3.25850333e-01, -3.38239784e-01],\n",
              "       [ 4.20737329e-01, -1.08076015e-01,  5.13959645e-01,\n",
              "         6.82375126e-01,  1.50315616e+00],\n",
              "       [-6.33589579e-01,  2.16662568e+00,  6.72993514e-01,\n",
              "         7.34976697e-01, -4.59449724e-01],\n",
              "       [-6.46071577e-01,  2.29144303e+00, -4.17736204e-01,\n",
              "        -1.57065814e+00,  7.06306388e-01],\n",
              "       [ 3.52118141e-01,  1.01206883e+00,  1.14285134e+00,\n",
              "        -2.46729494e-01, -9.30971800e-01],\n",
              "       [ 9.36911262e-01, -7.20045782e-01, -1.25430372e+00,\n",
              "        -3.15047368e-01, -6.58554939e-01],\n",
              "       [-8.11367592e-02,  8.87572764e-01, -2.99523033e-01,\n",
              "        -1.99144971e-01, -1.50384105e+00],\n",
              "       [-1.17547365e+00,  3.16516402e+00,  1.35959276e+00,\n",
              "         2.29515493e-01,  1.60793302e+00],\n",
              "       [-5.42073928e-01,  1.48462306e+00, -2.27176890e-01,\n",
              "        -8.35018491e-01,  3.61300416e-01],\n",
              "       [ 1.54099912e-01, -3.53705305e-02, -1.69637147e+00,\n",
              "        -5.45072528e-01,  1.99878454e-01],\n",
              "       [ 1.41963071e-01, -1.09518350e+00, -1.75409054e+00,\n",
              "         9.90486983e-01, -5.15910283e-01],\n",
              "       [ 7.94821375e-01,  5.44624099e-01, -1.18034213e+00,\n",
              "        -6.00131931e-01, -1.73577130e+00],\n",
              "       [-1.08026845e+00,  9.45995303e-01,  1.06773896e+00,\n",
              "         3.86500977e-01,  1.99605591e-01],\n",
              "       [-4.83472181e-01,  9.75854714e-02,  9.34097672e-01,\n",
              "        -4.56340396e-01, -4.86774897e-01],\n",
              "       [ 2.37752011e+00,  1.49588486e+00, -1.39683577e+00,\n",
              "        -4.25864893e-01,  5.05512002e-01],\n",
              "       [ 9.59310980e-01, -2.00471499e+00, -8.78233164e-02,\n",
              "         3.34418630e-01,  9.08224712e-02],\n",
              "       [-2.30084620e+00, -1.45243209e+00, -5.63666200e-01,\n",
              "         4.29115117e-01,  1.84156579e+00],\n",
              "       [ 5.21239390e-01,  2.32045780e-01, -3.28462096e-01,\n",
              "         6.57852267e-01,  1.75808892e+00],\n",
              "       [-5.09877671e-02, -8.14398971e-01,  1.59213690e+00,\n",
              "        -1.78773331e-01,  6.73889939e-01],\n",
              "       [-8.85891681e-01, -7.20078873e-02,  7.09171532e-01,\n",
              "        -1.55021240e+00,  4.74089705e-01],\n",
              "       [ 2.35107793e-01,  1.07950947e+00,  4.49336538e-02,\n",
              "         8.98925398e-01,  2.36940501e-01],\n",
              "       [ 3.38181980e-02,  1.56855878e+00,  2.93275005e-01,\n",
              "        -7.79253465e-01,  1.27879409e+00],\n",
              "       [ 1.89165393e+00,  1.45755382e+00, -8.45408157e-02,\n",
              "        -1.72012409e+00, -1.14651208e+00],\n",
              "       [ 1.33829369e+00,  2.99528267e-02,  3.62854589e-01,\n",
              "         1.77084464e-01, -3.67593785e-01],\n",
              "       [-5.30219560e-01,  2.46998342e-01, -8.31452389e-01,\n",
              "        -4.93339812e-01,  2.51133270e-01],\n",
              "       [ 1.77887652e+00,  9.05062444e-01,  1.03239769e+00,\n",
              "        -4.23229927e-01, -5.63981698e-01],\n",
              "       [ 5.29844648e-01, -9.67114026e-01, -1.03383900e+00,\n",
              "        -7.53793089e-01, -2.57326491e-01],\n",
              "       [ 6.51354271e-01, -1.31612003e+00,  1.42859389e+00,\n",
              "         1.32915915e+00,  1.06513843e+00],\n",
              "       [-1.70334357e-01, -8.84135950e-01,  1.06634205e+00,\n",
              "        -7.70631668e-01, -1.13132940e-02],\n",
              "       [ 2.44993814e-01, -7.71808205e-01, -1.23432365e+00,\n",
              "        -1.59177456e+00,  4.75505251e-02],\n",
              "       [ 2.07630613e-01, -2.31185086e-02,  5.25127717e-02,\n",
              "        -1.62573420e-01,  2.79752900e-02],\n",
              "       [ 7.28242295e-01, -3.87475995e-01,  6.63782975e-01,\n",
              "         8.43322666e-01, -1.04589496e+00],\n",
              "       [ 1.33748256e+00, -1.53886039e+00,  7.06779078e-01,\n",
              "         3.20066767e-01, -1.07788992e+00],\n",
              "       [-4.96084242e-02, -9.69561664e-01,  7.81176984e-01,\n",
              "        -2.00539081e-02,  4.27682154e-01],\n",
              "       [-6.81611177e-01,  4.68439517e-02, -7.39335359e-01,\n",
              "         2.15437009e+00,  2.24686808e-01],\n",
              "       [ 1.01815537e+00,  6.35915594e-01,  7.02905064e-01,\n",
              "         6.13185870e-01, -5.31863442e-01],\n",
              "       [-4.60206435e-01, -1.43449148e+00, -1.25823490e+00,\n",
              "         1.15970564e-01,  1.59996540e+00],\n",
              "       [-1.25522476e+00,  1.07494559e+00,  5.77532402e-01,\n",
              "        -2.36153757e+00,  4.97046713e-01],\n",
              "       [-1.29471032e-01, -5.70520789e-01, -8.31307591e-01,\n",
              "        -1.09394541e+00, -1.16981364e+00],\n",
              "       [-1.07703081e-01,  3.93050945e-01,  8.46461368e-01,\n",
              "         2.52277179e-01, -1.18979573e-01],\n",
              "       [-1.07154324e+00,  6.34313459e-01, -1.28971845e-01,\n",
              "         1.86089096e+00,  1.48442108e+00],\n",
              "       [-1.38969500e+00, -1.96603764e+00, -1.23121815e+00,\n",
              "         1.82918748e-01,  2.17309984e-01],\n",
              "       [-6.68523157e-02, -1.94340568e-01, -7.27768056e-01,\n",
              "         7.64945200e-02,  7.38050698e-01],\n",
              "       [ 9.74913620e-02, -5.49716964e-01, -1.35781309e-01,\n",
              "         1.45450774e-01, -1.81334564e+00],\n",
              "       [-7.94746620e-01, -7.83884300e-01,  9.97820837e-01,\n",
              "        -1.80964043e+00, -4.68831681e-01],\n",
              "       [ 6.39109871e-01,  7.51239156e-01, -8.38246421e-01,\n",
              "        -3.75694673e-02, -5.29643366e-01],\n",
              "       [ 7.92344724e-01, -1.54032390e+00,  3.10186715e-01,\n",
              "         6.03727793e-01,  4.70233712e-01],\n",
              "       [ 5.95795924e-01, -5.54598826e-01,  1.63693936e+00,\n",
              "         1.63237035e+00,  1.64395394e+00],\n",
              "       [ 2.36075291e-01,  1.95702287e-02,  3.15639553e-01,\n",
              "         6.84986163e-01,  1.71896765e+00],\n",
              "       [-1.72167538e+00, -1.39376801e+00, -2.51344476e+00,\n",
              "         1.01896201e+00,  2.23957995e+00],\n",
              "       [ 2.32197133e-01, -1.12814497e-01, -1.10864462e+00,\n",
              "         1.23379902e+00,  1.39414554e+00],\n",
              "       [ 1.24298835e+00,  9.90583948e-01,  4.22659296e-01,\n",
              "         2.60556674e+00, -1.67322304e-01],\n",
              "       [-6.28277024e-01,  3.78227854e-01,  1.04365119e-01,\n",
              "        -3.11750690e-01, -1.10348445e+00],\n",
              "       [-6.55831097e-01,  1.77864557e+00, -7.12067221e-01,\n",
              "         1.81872576e+00, -1.95372987e-02],\n",
              "       [ 1.56131803e-01,  5.34147704e-01, -2.63921555e+00,\n",
              "         1.17994921e+00,  2.49023395e+00],\n",
              "       [ 2.17199281e+00,  4.99389807e-01, -4.95978598e-01,\n",
              "         1.17849165e+00,  1.05791825e+00],\n",
              "       [-1.95756163e+00, -1.01082845e+00, -4.16120367e-01,\n",
              "        -3.72319092e-01, -1.96513201e+00],\n",
              "       [-8.96418081e-01, -2.86440381e+00, -6.34985777e-01,\n",
              "        -1.15655324e+00,  4.94317751e-01],\n",
              "       [ 7.79155029e-01, -2.35770501e-01,  5.91275233e-01,\n",
              "         4.10415612e-01, -6.01619467e-01],\n",
              "       [ 1.23497086e+00, -2.30304393e-01, -5.21542650e-01,\n",
              "         1.80130680e-01, -6.82850098e-01],\n",
              "       [-6.11510217e-01, -2.09387974e+00, -6.46009754e-01,\n",
              "        -4.78539291e-02,  4.59665386e-01],\n",
              "       [-4.46430202e-01, -1.57511390e-01, -1.70419087e+00,\n",
              "        -1.04117753e+00,  1.50005916e+00],\n",
              "       [ 8.87197097e-01, -2.17984855e+00,  1.10337833e+00,\n",
              "        -5.58434305e-01, -1.02477015e-01],\n",
              "       [ 4.09208693e-01,  3.42985293e-01,  2.65398065e-01,\n",
              "        -1.35947972e+00,  5.50080902e-01],\n",
              "       [ 1.57971199e+00,  1.87494513e-01,  1.96943067e-01,\n",
              "         5.96779344e-01, -4.30041324e-01],\n",
              "       [-9.67282641e-01,  6.68558911e-01, -5.23570475e-01,\n",
              "        -1.63400002e+00,  1.50068552e+00],\n",
              "       [ 1.21729808e+00,  8.47415909e-01,  1.18512812e+00,\n",
              "        -6.03681741e-01,  1.81068419e+00],\n",
              "       [ 9.46341204e-01,  4.39321513e-01, -1.08208731e+00,\n",
              "        -2.40891172e+00, -2.82298675e+00],\n",
              "       [-2.51545115e-01,  2.59277345e-01,  5.80970445e-01,\n",
              "        -8.42747363e-03, -3.86120849e-01],\n",
              "       [-1.86120360e+00, -1.24829813e+00,  1.87529959e+00,\n",
              "         1.49836160e+00, -7.37115497e-01],\n",
              "       [-1.06167413e+00, -5.82798527e-01, -3.87089767e-01,\n",
              "        -6.73809784e-01, -1.83286262e-01],\n",
              "       [-4.25503480e-01, -2.35716840e-01,  1.10022219e+00,\n",
              "        -5.57855637e-01, -2.34472873e-01],\n",
              "       [ 7.63882423e-02,  1.32442332e+00,  7.34897713e-01,\n",
              "        -4.33049420e-01, -1.84006252e+00],\n",
              "       [-1.38484336e-01,  1.90821865e+00, -2.48824525e-01,\n",
              "        -1.00313219e+00,  6.67699729e-01],\n",
              "       [ 5.87356894e-01,  1.60583623e+00, -3.77946926e-01,\n",
              "        -3.15584649e-01, -2.36915859e-01],\n",
              "       [ 9.31965281e-01, -9.26655822e-01, -7.67544683e-01,\n",
              "         1.03179959e+00, -2.09336185e-01],\n",
              "       [ 1.84350350e+00,  3.64137418e-01,  1.05753762e+00,\n",
              "        -1.67238802e-02,  5.31170115e-01],\n",
              "       [-5.05932273e-02,  3.46196145e-01, -9.73396589e-01,\n",
              "         1.68011805e-02, -9.15210034e-01],\n",
              "       [ 4.49652690e-01,  7.14354663e-01,  9.97627256e-01,\n",
              "         3.67984702e-01,  1.36787281e+00],\n",
              "       [-1.16817959e+00, -1.71276421e+00,  1.53124820e+00,\n",
              "         1.23487199e+00, -5.05964107e-01],\n",
              "       [-3.17541737e-01, -6.59525308e-01,  8.20587724e-01,\n",
              "        -1.37912129e+00, -8.27775235e-01],\n",
              "       [-1.29646900e+00,  1.55602014e+00, -5.82121189e-01,\n",
              "        -1.50229819e+00,  1.13376535e-01],\n",
              "       [ 5.03449524e-01,  1.01365997e-01, -7.70412815e-01,\n",
              "         1.49903603e+00, -8.38588469e-01],\n",
              "       [ 2.19779744e+00, -6.52860775e-02,  2.59764884e-01,\n",
              "        -2.66523604e-01, -4.09728564e-01],\n",
              "       [-6.82122462e-01, -8.49764777e-01,  1.80761669e+00,\n",
              "        -1.11967649e+00, -1.97336266e-01],\n",
              "       [-6.37563639e-01, -3.05289067e-01, -1.32247154e+00,\n",
              "        -2.05717602e-01, -1.02007148e+00],\n",
              "       [ 8.36276137e-02,  1.35906635e-01,  1.35245230e+00,\n",
              "         5.44585734e-01,  1.15103015e+00],\n",
              "       [ 1.66290880e+00,  1.42618310e-01,  1.39062892e-01,\n",
              "         6.87699421e-01, -5.82035387e-01],\n",
              "       [ 2.07454694e-01, -6.68290805e-01,  1.50702879e-01,\n",
              "        -6.31481317e-01,  1.85574786e-01],\n",
              "       [-2.30143516e-02, -2.21258699e-01,  9.52569845e-01,\n",
              "        -7.13913490e-01,  5.16543031e-01],\n",
              "       [-8.97994103e-01,  1.86638808e-01,  2.63305146e+00,\n",
              "         6.92668243e-01,  4.93593163e-01],\n",
              "       [ 9.34849019e-01,  8.98201014e-01,  1.32751313e+00,\n",
              "         1.83611232e+00, -1.14796402e+00],\n",
              "       [ 1.65191070e+00,  2.16629694e-01,  2.46087963e-01,\n",
              "         9.81376683e-01, -9.84441659e-02],\n",
              "       [ 1.24230659e+00, -7.13835711e-01,  1.41638475e-01,\n",
              "         1.43790541e+00, -8.41312975e-01],\n",
              "       [-1.14143174e+00,  1.13209618e+00, -1.67413232e+00,\n",
              "        -4.32362068e-01,  1.01733180e+00],\n",
              "       [-1.12720869e+00,  8.83865959e-01,  3.24924181e-01,\n",
              "         1.37731755e+00,  1.42376664e+00],\n",
              "       [-1.29511729e+00,  1.59315776e+00,  1.06967311e-01,\n",
              "         2.14332282e+00,  6.57556685e-01],\n",
              "       [ 5.72891348e-01, -5.92726683e-01,  1.10788270e-01,\n",
              "        -2.21129453e-01,  1.25540930e+00],\n",
              "       [ 9.34475889e-01, -1.97651108e+00, -6.93467465e-01,\n",
              "        -1.24273649e+00,  7.82360513e-01],\n",
              "       [ 1.48034821e+00,  5.90728052e-01,  1.66162594e+00,\n",
              "         4.36586961e-01,  3.10920953e-01],\n",
              "       [ 1.89815413e+00,  3.09249109e-01,  4.86038982e-01,\n",
              "        -3.63576403e-01,  5.42438376e-03],\n",
              "       [-7.13409586e-01, -2.47020595e-01,  2.02104672e-01,\n",
              "        -1.03056195e+00, -1.96863864e+00],\n",
              "       [ 3.43406841e-01,  4.48685762e-03,  5.29286019e-01,\n",
              "         9.19431452e-01, -2.54558812e+00],\n",
              "       [-3.91947606e-01, -2.91696485e+00,  8.37521551e-01,\n",
              "        -1.06794788e+00, -3.44155368e-01],\n",
              "       [-1.02372901e+00, -1.69601430e+00,  2.73008362e-01,\n",
              "         2.77329407e+00,  2.97634454e-01],\n",
              "       [-2.17849237e-01, -1.48861217e+00,  5.03190727e-01,\n",
              "         1.20530304e+00, -4.03502291e-01],\n",
              "       [-9.78828424e-01, -5.90258057e-01, -1.19727087e+00,\n",
              "        -1.96550868e-01,  1.04187394e+00],\n",
              "       [-9.31442056e-01, -1.84971963e+00,  2.95689334e-01,\n",
              "        -8.12860037e-02,  1.84939968e-01],\n",
              "       [-2.83977772e-01, -5.47664350e-01, -7.30681548e-01,\n",
              "         1.67798970e+00,  1.86187708e-01],\n",
              "       [-3.74373154e-01,  4.94177573e-01, -4.91822832e-01,\n",
              "        -1.57548092e-01, -5.80135916e-01],\n",
              "       [-1.00797827e-01,  1.59754137e-01, -1.76372519e+00,\n",
              "        -4.37579195e-01, -3.64276780e-01],\n",
              "       [ 7.33757986e-02, -6.01405109e-01,  4.56552539e-01,\n",
              "        -4.06542226e-01,  2.07787708e-01],\n",
              "       [ 2.32239859e+00,  1.63325203e+00, -3.07572967e-01,\n",
              "        -1.77442004e-01,  1.86388521e+00],\n",
              "       [-6.79939027e-01, -2.24614153e-01, -1.38508559e-01,\n",
              "         1.54359168e-01,  8.90903904e-02],\n",
              "       [ 3.45172968e-01, -5.70905402e-01, -5.25180809e-02,\n",
              "        -1.55256799e+00, -3.97603755e-01],\n",
              "       [ 2.08253573e-01, -9.87647289e-01,  1.58203251e-02,\n",
              "        -9.64631817e-02, -1.35074126e+00],\n",
              "       [ 2.75108857e-01,  8.78818943e-01, -8.28481362e-01,\n",
              "         1.79606481e-01, -4.48095007e-01],\n",
              "       [ 8.89479025e-01, -5.90511644e-01, -2.15594150e-01,\n",
              "         3.45077389e-01, -4.64393051e-01],\n",
              "       [ 1.29625486e+00,  5.89696455e-01, -6.60099168e-01,\n",
              "         5.13151680e-03, -4.98985713e-01],\n",
              "       [ 9.01864400e-01,  1.11114459e+00, -9.72285500e-01,\n",
              "         2.38055690e-01,  6.87314936e-01],\n",
              "       [ 1.24469474e+00, -6.38716971e-01, -6.31801928e-01,\n",
              "         1.42187612e+00, -5.25074568e-01],\n",
              "       [ 3.38066679e-01, -2.88659888e-01, -1.01227815e+00,\n",
              "        -8.53990337e-01, -3.53520902e-03],\n",
              "       [ 1.91704556e+00, -1.32416458e+00, -9.07865048e-01,\n",
              "         1.17779498e+00,  4.92234613e-01],\n",
              "       [-1.12647930e+00,  1.22603045e+00, -2.68059870e-02,\n",
              "        -7.88468741e-01, -8.97373931e-02],\n",
              "       [-6.43154914e-02, -2.41319019e-01, -2.92567379e-01,\n",
              "         4.69035630e-01, -2.34374704e-01],\n",
              "       [-1.01081157e+00,  8.77248152e-01,  1.39029893e+00,\n",
              "        -9.67882827e-02,  8.29684414e-01],\n",
              "       [-2.23155348e+00,  2.83178338e-01, -1.44690044e+00,\n",
              "         1.00890467e+00, -1.26357206e+00],\n",
              "       [-1.82867278e+00,  1.71966135e+00,  1.21744496e+00,\n",
              "         4.23805096e-01, -8.37141783e-01],\n",
              "       [-6.82682464e-01,  8.44944747e-01,  1.21596190e-01,\n",
              "        -4.68173871e-01, -6.47041899e-01],\n",
              "       [-1.51048645e+00, -9.52584584e-01,  6.60400588e-01,\n",
              "        -5.05359923e-01, -7.58821153e-01],\n",
              "       [-1.89336866e-01,  7.48125705e-01, -3.66242597e-01,\n",
              "        -6.73906472e-01, -6.14494639e-01],\n",
              "       [ 9.58329941e-01, -8.35131366e-01, -1.78821270e+00,\n",
              "        -5.72824263e-01, -6.38383457e-02],\n",
              "       [-1.65731655e+00, -2.43201540e+00, -1.90183182e+00,\n",
              "         7.53525254e-01, -4.24867413e-01],\n",
              "       [ 5.69880380e-01,  1.30101775e+00,  3.17236388e-01,\n",
              "         8.39982137e-01,  1.26138455e+00],\n",
              "       [-1.25779091e+00,  2.06266209e-01, -8.66103117e-01,\n",
              "        -4.17039089e-01, -5.25142227e-01],\n",
              "       [ 1.13677302e+00, -8.05524753e-03, -9.07918512e-01,\n",
              "         4.64232981e-01,  4.18177617e-02],\n",
              "       [ 9.02865897e-01, -6.28006418e-01, -9.81317034e-01,\n",
              "         9.48647488e-01, -1.32554165e+00],\n",
              "       [-1.01804559e+00,  1.21134440e-01, -2.22291203e-02,\n",
              "         1.19514077e+00,  5.77097117e-01],\n",
              "       [-2.40275444e+00, -1.44825716e+00, -6.34591883e-03,\n",
              "        -5.73833310e-01,  5.98382837e-01],\n",
              "       [ 5.97391008e-01,  2.19351626e+00,  5.09895839e-01,\n",
              "        -6.04321620e-01, -7.95870421e-01],\n",
              "       [-1.24427250e+00,  2.99475214e-01, -6.41569592e-01,\n",
              "         1.05077052e+00,  1.98335860e-01],\n",
              "       [ 1.09785329e+00, -7.57572444e-01,  2.45318978e-01,\n",
              "         1.65971888e+00, -1.74242505e-01],\n",
              "       [ 1.67210318e-01, -1.22082184e+00, -1.39939771e+00,\n",
              "        -9.20367374e-01, -1.53985620e+00],\n",
              "       [-2.25323068e-01, -5.97333474e-03, -4.60120115e-01,\n",
              "        -3.92918108e-01, -7.52218141e-01],\n",
              "       [ 7.26087600e-01, -8.64964300e-01,  1.09342192e+00,\n",
              "        -4.13325110e-01, -4.50636427e-01],\n",
              "       [-7.88640690e-02, -7.31561965e-02, -1.58839177e+00,\n",
              "         1.98082301e+00, -7.65316687e-01],\n",
              "       [ 4.65201878e-01,  1.39090537e+00,  1.06011501e+00,\n",
              "         1.09870015e+00,  2.59759774e-01],\n",
              "       [-1.44501436e+00, -7.87882013e-01,  1.06917797e+00,\n",
              "         2.91214720e-01,  2.31041491e+00],\n",
              "       [ 1.47644650e+00,  8.52444838e-02,  6.99650366e-01,\n",
              "         3.98484852e-01,  7.80836669e-01],\n",
              "       [ 1.50900427e+00,  5.32921131e-01,  8.31211935e-01,\n",
              "        -2.51898436e+00, -1.08280920e+00]])"
            ]
          },
          "metadata": {},
          "execution_count": 17
        }
      ]
    },
    {
      "cell_type": "code",
      "source": [
        "#1st method to calculate k = sqrt(train_x)\n",
        "np.sqrt(X_train.shape[0]) # k= 29(odd for accuracy)\n",
        "k = 29"
      ],
      "metadata": {
        "id": "tYf4ol5IqS-w"
      },
      "execution_count": 20,
      "outputs": []
    },
    {
      "cell_type": "code",
      "source": [
        "from sklearn.neighbors import KNeighborsRegressor\n",
        "knn = KNeighborsRegressor(n_neighbors = k)"
      ],
      "metadata": {
        "id": "S0TL84eUqmF1"
      },
      "execution_count": 26,
      "outputs": []
    },
    {
      "cell_type": "code",
      "source": [
        "#train our  model\n",
        "knn.fit(X_train, y_train)"
      ],
      "metadata": {
        "colab": {
          "base_uri": "https://localhost:8080/",
          "height": 74
        },
        "id": "4q2atkPgq6m3",
        "outputId": "5eaeec6c-292f-4d01-b11e-8b6df2359389"
      },
      "execution_count": 27,
      "outputs": [
        {
          "output_type": "execute_result",
          "data": {
            "text/plain": [
              "KNeighborsRegressor(n_neighbors=29)"
            ],
            "text/html": [
              "<style>#sk-container-id-1 {color: black;}#sk-container-id-1 pre{padding: 0;}#sk-container-id-1 div.sk-toggleable {background-color: white;}#sk-container-id-1 label.sk-toggleable__label {cursor: pointer;display: block;width: 100%;margin-bottom: 0;padding: 0.3em;box-sizing: border-box;text-align: center;}#sk-container-id-1 label.sk-toggleable__label-arrow:before {content: \"▸\";float: left;margin-right: 0.25em;color: #696969;}#sk-container-id-1 label.sk-toggleable__label-arrow:hover:before {color: black;}#sk-container-id-1 div.sk-estimator:hover label.sk-toggleable__label-arrow:before {color: black;}#sk-container-id-1 div.sk-toggleable__content {max-height: 0;max-width: 0;overflow: hidden;text-align: left;background-color: #f0f8ff;}#sk-container-id-1 div.sk-toggleable__content pre {margin: 0.2em;color: black;border-radius: 0.25em;background-color: #f0f8ff;}#sk-container-id-1 input.sk-toggleable__control:checked~div.sk-toggleable__content {max-height: 200px;max-width: 100%;overflow: auto;}#sk-container-id-1 input.sk-toggleable__control:checked~label.sk-toggleable__label-arrow:before {content: \"▾\";}#sk-container-id-1 div.sk-estimator input.sk-toggleable__control:checked~label.sk-toggleable__label {background-color: #d4ebff;}#sk-container-id-1 div.sk-label input.sk-toggleable__control:checked~label.sk-toggleable__label {background-color: #d4ebff;}#sk-container-id-1 input.sk-hidden--visually {border: 0;clip: rect(1px 1px 1px 1px);clip: rect(1px, 1px, 1px, 1px);height: 1px;margin: -1px;overflow: hidden;padding: 0;position: absolute;width: 1px;}#sk-container-id-1 div.sk-estimator {font-family: monospace;background-color: #f0f8ff;border: 1px dotted black;border-radius: 0.25em;box-sizing: border-box;margin-bottom: 0.5em;}#sk-container-id-1 div.sk-estimator:hover {background-color: #d4ebff;}#sk-container-id-1 div.sk-parallel-item::after {content: \"\";width: 100%;border-bottom: 1px solid gray;flex-grow: 1;}#sk-container-id-1 div.sk-label:hover label.sk-toggleable__label {background-color: #d4ebff;}#sk-container-id-1 div.sk-serial::before {content: \"\";position: absolute;border-left: 1px solid gray;box-sizing: border-box;top: 0;bottom: 0;left: 50%;z-index: 0;}#sk-container-id-1 div.sk-serial {display: flex;flex-direction: column;align-items: center;background-color: white;padding-right: 0.2em;padding-left: 0.2em;position: relative;}#sk-container-id-1 div.sk-item {position: relative;z-index: 1;}#sk-container-id-1 div.sk-parallel {display: flex;align-items: stretch;justify-content: center;background-color: white;position: relative;}#sk-container-id-1 div.sk-item::before, #sk-container-id-1 div.sk-parallel-item::before {content: \"\";position: absolute;border-left: 1px solid gray;box-sizing: border-box;top: 0;bottom: 0;left: 50%;z-index: -1;}#sk-container-id-1 div.sk-parallel-item {display: flex;flex-direction: column;z-index: 1;position: relative;background-color: white;}#sk-container-id-1 div.sk-parallel-item:first-child::after {align-self: flex-end;width: 50%;}#sk-container-id-1 div.sk-parallel-item:last-child::after {align-self: flex-start;width: 50%;}#sk-container-id-1 div.sk-parallel-item:only-child::after {width: 0;}#sk-container-id-1 div.sk-dashed-wrapped {border: 1px dashed gray;margin: 0 0.4em 0.5em 0.4em;box-sizing: border-box;padding-bottom: 0.4em;background-color: white;}#sk-container-id-1 div.sk-label label {font-family: monospace;font-weight: bold;display: inline-block;line-height: 1.2em;}#sk-container-id-1 div.sk-label-container {text-align: center;}#sk-container-id-1 div.sk-container {/* jupyter's `normalize.less` sets `[hidden] { display: none; }` but bootstrap.min.css set `[hidden] { display: none !important; }` so we also need the `!important` here to be able to override the default hidden behavior on the sphinx rendered scikit-learn.org. See: https://github.com/scikit-learn/scikit-learn/issues/21755 */display: inline-block !important;position: relative;}#sk-container-id-1 div.sk-text-repr-fallback {display: none;}</style><div id=\"sk-container-id-1\" class=\"sk-top-container\"><div class=\"sk-text-repr-fallback\"><pre>KNeighborsRegressor(n_neighbors=29)</pre><b>In a Jupyter environment, please rerun this cell to show the HTML representation or trust the notebook. <br />On GitHub, the HTML representation is unable to render, please try loading this page with nbviewer.org.</b></div><div class=\"sk-container\" hidden><div class=\"sk-item\"><div class=\"sk-estimator sk-toggleable\"><input class=\"sk-toggleable__control sk-hidden--visually\" id=\"sk-estimator-id-1\" type=\"checkbox\" checked><label for=\"sk-estimator-id-1\" class=\"sk-toggleable__label sk-toggleable__label-arrow\">KNeighborsRegressor</label><div class=\"sk-toggleable__content\"><pre>KNeighborsRegressor(n_neighbors=29)</pre></div></div></div></div></div>"
            ]
          },
          "metadata": {},
          "execution_count": 27
        }
      ]
    },
    {
      "cell_type": "code",
      "source": [
        "y_train"
      ],
      "metadata": {
        "colab": {
          "base_uri": "https://localhost:8080/"
        },
        "id": "BdMmL9VnrMFw",
        "outputId": "3f84c759-01b3-472c-9dee-9b4233e9278d"
      },
      "execution_count": 28,
      "outputs": [
        {
          "output_type": "execute_result",
          "data": {
            "text/plain": [
              "array([-6.61044230e+00,  5.26440923e+01, -5.14604420e+00,  3.55653588e+01,\n",
              "       -5.58131565e+01,  4.90961297e+01,  4.27471651e+01,  1.00316059e+02,\n",
              "        1.28603490e+01,  9.08158323e+01, -4.52678519e-02,  5.01559467e+01,\n",
              "       -1.26712274e+02, -2.28555613e+01,  2.16821593e+01, -3.36371374e+01,\n",
              "        4.39505156e+01, -7.51747755e+01,  1.22693052e+02,  2.65810400e+01,\n",
              "       -2.78259125e+01,  8.52184518e+01, -1.04586430e+02,  1.05054034e+02,\n",
              "        3.18232861e+01, -3.53440623e+01,  7.54913838e+00, -2.07358177e+01,\n",
              "       -6.93561507e+01, -8.96957009e+01,  4.43146836e+00,  2.24559806e+01,\n",
              "       -2.28808293e+01,  4.25958672e+01,  8.18117340e+01, -4.96748158e+00,\n",
              "       -6.23127408e+01,  1.36147170e+02,  1.19139878e+01,  1.62728567e+02,\n",
              "       -3.72989376e+00, -1.70624220e+01, -1.40343341e+01, -2.95643188e+01,\n",
              "       -1.28472521e+01,  1.99239711e+01, -4.83886695e+01, -2.41828662e+01,\n",
              "       -2.63963727e+01, -3.05299493e+01, -1.51245424e+01,  7.15538524e+00,\n",
              "       -6.21997808e+01, -2.45923789e+01, -4.52704661e+01, -8.56710208e+01,\n",
              "       -1.06257345e+02,  7.80131255e+01, -1.37806975e+01, -8.75390090e+01,\n",
              "       -6.09327974e+01,  4.72049729e+00,  3.04483565e+01, -1.10444623e+02,\n",
              "       -5.92973498e+01, -3.01633859e+01, -1.11801605e+01,  5.77809338e+01,\n",
              "        6.52546287e+01,  9.16708158e+01,  5.72904031e+01,  7.71684702e+01,\n",
              "       -1.55316583e+01, -2.27713224e+01,  3.02863876e+01,  7.33278734e+01,\n",
              "       -1.29392642e+01, -7.40760875e+01,  1.96117498e+01,  3.60009332e+01,\n",
              "       -5.84317259e+01,  5.69483414e+01,  1.57626678e+02, -1.90442331e+02,\n",
              "        2.16456630e+01,  1.57514909e+02,  1.07205658e+01,  9.91620882e+01,\n",
              "        1.97715061e+01, -4.82201684e+01,  4.60646673e+01, -1.06582174e+02,\n",
              "       -1.32107165e+01, -1.01671553e+00,  4.74882733e+01, -2.90189898e+01,\n",
              "       -8.47095906e+00, -8.87936239e+01, -3.46100457e+01, -6.62185812e+00,\n",
              "       -5.25318589e+00, -7.84930055e+01,  1.26163597e+00,  1.10374417e+02,\n",
              "        2.17838951e+01, -6.03187462e+01,  2.54827286e+01,  1.53215222e+01,\n",
              "        1.25426203e+02,  5.31947884e+01,  1.79483240e+01,  4.99456355e+01,\n",
              "        7.13426902e+00, -1.60562797e+02,  3.08195497e+01,  7.06518315e+01,\n",
              "        1.50300864e+00, -3.28924947e-01,  4.78078468e+01,  1.02179801e+02,\n",
              "        1.08724459e+01, -3.16805629e+01,  2.29170346e+01,  1.93016443e+01,\n",
              "       -8.09762794e+01, -1.37109228e+02,  1.11333975e+02, -5.77966915e+01,\n",
              "        1.06341831e+01, -2.33988012e+00, -6.60223834e+01, -6.02202639e-01,\n",
              "        5.12815888e+01, -7.76068110e+00,  5.96308043e+01, -2.07326452e+01,\n",
              "        3.28534851e+01,  6.25223867e+01, -1.97719959e+01,  1.04476556e+02,\n",
              "       -1.18685340e+02, -7.05131376e+01,  3.64204546e+01,  1.47467968e+01,\n",
              "       -3.74021031e+01, -1.32927987e-01,  4.63001009e+01, -1.12360567e+01,\n",
              "        7.35034332e+01, -2.99595892e+01,  1.01357030e+02, -7.65145989e+01,\n",
              "       -4.48592080e+01,  8.63484612e+01, -1.03180042e+01, -6.63342005e+01,\n",
              "       -3.50938856e+01, -6.85193817e+00, -7.46551901e+01,  1.39337917e+01,\n",
              "       -2.59441361e+01, -4.18401281e+01, -2.87854821e+01, -6.38906267e+01,\n",
              "        1.41985243e+01,  9.63425372e+01,  1.34425833e+01, -9.49944475e+01,\n",
              "        6.40490445e+01, -1.31459492e+02, -1.11431211e+01,  1.78173573e+01,\n",
              "       -3.07813027e+01,  6.25598420e+01, -3.31378883e+01,  8.64046160e+01,\n",
              "        9.98158296e+01,  3.50558307e+01,  7.67679519e+00,  5.65678992e+01,\n",
              "       -5.46922286e+01,  4.18350703e+01,  4.43670384e+01, -3.80203270e+01,\n",
              "       -1.41034403e+02, -6.89599793e+00,  2.96866190e+01,  5.35230124e+01,\n",
              "       -4.89033782e+01, -2.97443904e+01, -1.66729335e+02, -3.91867833e+01,\n",
              "        2.17034014e+01, -4.17827069e+01, -3.39523070e+01, -1.29145582e+01,\n",
              "        1.85375819e+01, -1.14179750e+02, -5.15855383e+01,  6.15279224e+01,\n",
              "        8.42506822e+01, -4.69545176e+01,  1.24225323e+02, -1.17131697e+02,\n",
              "       -7.96654544e+01,  1.00779158e+02, -1.59066374e+01,  5.94215412e+01,\n",
              "       -8.20738788e+01, -3.15562363e+01, -9.70979146e+00,  6.32152557e+01,\n",
              "       -4.70411320e+01, -4.19493653e+01, -9.16227336e+00, -2.08721598e+01,\n",
              "       -2.14184939e+01, -9.82203865e+01, -2.47138107e+01, -4.13061613e+01,\n",
              "       -2.92309648e+01,  1.05593151e+02,  2.44717744e+01,  6.83557027e+01,\n",
              "        4.89415681e+01, -2.45366040e+01,  8.25760928e+01, -8.76134036e+00,\n",
              "        6.58065780e+00,  1.63077687e+01,  8.23235983e+01,  8.67591107e+01,\n",
              "        1.44187323e+01, -2.54924368e+01,  9.54210094e+01,  1.11455696e+02,\n",
              "       -8.62892333e+00, -6.92967869e+01,  1.38845645e+01, -1.62243679e+01,\n",
              "        2.22120416e+01, -3.22025804e+01,  2.39967996e+01, -1.03443108e+01,\n",
              "       -1.04490233e+01, -2.39248853e+01,  4.16316354e+01,  7.63251687e+01,\n",
              "        2.26154978e+00, -2.13241762e+01,  1.59428619e+01,  3.34866632e+01,\n",
              "       -3.73358030e+01, -3.18652193e+01,  4.95010633e+01, -1.74242801e+01,\n",
              "       -6.31703791e+01,  1.30750899e+02,  6.99251796e+01,  4.90333236e-01,\n",
              "       -9.00797168e+01,  5.81299895e+01,  2.74823967e+01, -4.63968296e+01,\n",
              "        2.63587462e+01,  5.92690820e+00, -7.50405667e+01, -7.52620725e+01,\n",
              "       -2.90088896e+01,  4.68829570e+01, -3.86141396e+01,  7.91589435e+00,\n",
              "       -5.93903856e+01,  6.21211813e+01,  9.33585904e+01,  5.31886305e+01,\n",
              "        3.66464340e+01, -7.13394408e+01,  3.43318665e+01,  3.29463833e-01,\n",
              "        3.43140452e+01, -7.67340366e+01, -5.99773606e+01,  3.35958333e+00,\n",
              "        2.36153452e+01,  2.42094652e+01, -9.69678348e+01, -6.79631894e+01,\n",
              "       -6.43611798e+01,  7.86043157e+01, -9.69360472e+00,  7.00173703e+01,\n",
              "       -7.88927690e+01,  2.42964838e+00,  3.65946317e+01, -8.09360229e+01,\n",
              "        1.58982927e+01,  7.14591590e+01,  1.13064106e+01,  1.04945945e+02,\n",
              "        8.79088250e+00,  4.93173964e+01, -1.00098763e+02,  1.91195806e+01,\n",
              "        7.21169451e+01, -5.81401355e+00,  7.37052676e+01,  5.33095863e+01,\n",
              "       -1.04194993e+02, -7.85134660e+01, -7.20780084e+00,  3.50213788e+01,\n",
              "        1.10844537e+02,  1.58445575e+02,  1.32267923e+01,  2.47882801e+01,\n",
              "        8.05247915e+01, -2.64317607e+01, -6.49179880e+01, -1.96313198e+01,\n",
              "        2.75776153e+01, -5.30690813e+01,  8.45542549e+01, -1.05952269e+01,\n",
              "        7.49056131e+01,  3.09225563e+01, -3.00500941e+01, -6.52904970e+01,\n",
              "        3.57943128e+01,  3.30192593e+01, -1.46231212e+02, -2.98374886e+01,\n",
              "        6.26601011e+00,  5.44307076e+00,  1.42899154e+02, -1.19550577e+02,\n",
              "        4.56581177e+01,  7.06202187e+01,  5.65642200e+00, -7.29728788e+01,\n",
              "       -9.68116778e+01, -6.03675405e+01, -1.02984537e+02, -1.72511514e+01,\n",
              "        5.04623370e+01, -1.42065516e+02,  6.79636910e+01,  5.83946113e+01,\n",
              "        6.76396255e+01,  5.68960085e+01, -1.24178598e+02, -8.70945046e+01,\n",
              "       -1.10497965e+01,  1.52680629e+01,  4.05319195e+01,  3.22494039e+01,\n",
              "        3.33435297e+01,  4.66053615e+01,  1.58939523e+01, -3.27245231e+01,\n",
              "       -8.31197631e+00,  4.09421097e+01, -1.57911173e+01,  4.78257356e+00,\n",
              "       -6.72216656e+01, -8.28724491e+01, -8.05152119e+01, -1.44966696e+02,\n",
              "       -4.26586658e+01,  3.34785312e+01, -1.13022370e+02, -4.75968129e+01,\n",
              "        9.47752359e+01,  7.79015461e+01, -1.41168375e+01,  1.03196457e+01,\n",
              "        5.84172305e+01, -8.84999159e+01,  7.38534061e+01, -6.92948407e+01,\n",
              "        7.13778728e+01,  5.30989527e+01,  1.02467675e+02,  4.12762388e+01,\n",
              "       -4.66857435e+01,  2.30011615e+01, -2.74986235e+01,  3.60890431e+01,\n",
              "       -1.60239248e+01,  1.78392526e+01,  7.27250377e+01, -1.53679629e+01,\n",
              "        1.27727539e+02,  5.10475405e+01, -8.82922468e-01, -1.08142039e+02,\n",
              "        1.85074448e+01, -1.18313249e+02, -7.46976160e+01,  1.22267600e+02,\n",
              "       -6.36879857e+01,  1.83058668e+01, -2.11767120e+01,  3.41052294e+01,\n",
              "       -3.21865444e+01,  1.45169779e+01, -6.74652097e+01,  1.02706864e+02,\n",
              "        2.81337545e+01,  1.36865266e+02, -4.97984624e+01, -2.39270392e+01,\n",
              "       -8.27038815e+01,  3.98464334e+01,  7.47927161e+01,  1.32413134e+01,\n",
              "        1.40358481e+02, -8.15240962e+01, -8.52565475e+01, -7.99696996e+00,\n",
              "        4.64349822e+01,  1.35411147e+01,  2.03933629e+01, -1.36528677e+02,\n",
              "        2.79338704e+01,  3.11783195e+01,  9.00940273e+00,  3.28836297e+01,\n",
              "        3.21930164e+01, -8.61220294e+01,  3.50861453e+00,  1.36265602e+02,\n",
              "       -9.30253719e+01,  1.42574996e+02,  7.86357529e+01, -4.11280692e+01,\n",
              "       -4.22929298e+01,  2.00042254e+00,  7.20853743e+01,  1.63846500e+01,\n",
              "       -6.22025076e+01, -1.38475981e+02, -7.87500174e+01,  2.96802122e+01,\n",
              "        6.61037312e+01, -3.07960433e+01, -5.97924927e+01,  3.23525310e+00,\n",
              "        2.11855996e+01,  5.51303165e+01, -2.34044111e+01,  2.73295313e+01,\n",
              "       -7.49977954e-01,  3.91303519e+01, -1.26235495e+02,  4.71036505e+01,\n",
              "        1.58382503e+01, -2.50834849e+01,  1.55577039e+02,  8.81343894e+01,\n",
              "        1.35701350e+01,  6.96934372e+01,  1.20663260e+01,  3.70938850e+01,\n",
              "       -2.43910474e+01,  1.44830905e+02, -8.98491200e+01, -1.59338399e+00,\n",
              "       -4.77505875e+01,  5.22282550e+01, -5.07975039e+01, -1.07172828e+02,\n",
              "       -7.24137203e+01,  8.10828761e+00,  4.77443915e+01, -5.94606684e+00,\n",
              "       -3.51939953e+01, -7.38991098e+01, -7.47964671e+01, -7.38250932e+01,\n",
              "        2.28819008e+01, -7.38990577e+01, -1.04946493e+02, -6.36455436e+01,\n",
              "        7.35115091e+01,  4.03081745e+00, -8.77226609e+00,  1.66811192e+01,\n",
              "       -1.57024996e+02,  5.61519802e-01,  7.38425037e+01, -3.22191034e+01,\n",
              "       -1.55670875e+02,  1.59171804e+01, -8.27327524e+01,  2.87788998e+00,\n",
              "        1.27774304e+02, -9.85468018e+01,  1.34093314e+01,  3.44597653e+01,\n",
              "        8.77839085e+01, -4.98120494e+01,  1.52168328e+01,  1.05406528e+02,\n",
              "       -1.59314474e+01,  6.75555052e+01,  4.34652507e+01, -2.59378151e+01,\n",
              "        6.12421754e+01,  9.85251309e+01,  2.21246235e+01, -1.96731051e+01,\n",
              "        8.62413046e+01,  9.53984937e+01, -4.67177137e+01, -1.31442903e+02,\n",
              "       -4.76288590e+01, -2.01662941e+02,  8.42716643e+01,  2.31945118e+01,\n",
              "        3.26662342e+01, -5.13247527e+01,  4.26819076e+01,  3.29970728e+00,\n",
              "       -1.04839565e+02,  4.46810892e+01,  1.37170135e+02, -7.18372950e+01,\n",
              "        3.84279350e+01, -1.86490043e+01, -1.91563826e+01, -5.51670212e+01,\n",
              "        2.87730719e+01, -1.11417773e+02, -8.31083604e+00, -3.42506187e+01,\n",
              "        7.56576972e+01,  8.08045476e+01,  1.04904100e+02, -3.81740277e+01,\n",
              "       -6.20807366e+01,  2.41026456e+00, -2.01226386e+02,  6.10691323e+01,\n",
              "       -3.49129518e+01,  3.17052980e+01, -3.81148465e+01,  8.06198164e+01,\n",
              "       -1.14456009e+02,  5.09399283e+00,  4.98437835e+01,  8.36466699e+01,\n",
              "       -7.07868266e+01, -2.47414618e+01, -1.58112099e+02,  3.31489054e+00,\n",
              "        5.11981937e+00, -6.02265977e+01,  9.99367845e+01, -7.07354849e+01,\n",
              "        9.25496249e+01, -4.88317917e+01,  1.43741137e+01, -2.71027310e+01,\n",
              "        7.10572710e+00,  1.35379973e+01, -5.79201599e+01, -3.21674857e+01,\n",
              "        1.30548314e+01, -4.32059994e+01, -3.49626357e+01,  2.75351058e+00,\n",
              "       -1.41186726e+01,  9.27104470e+01,  1.34001285e+01,  2.09503393e+01,\n",
              "       -8.41024044e+01, -7.78883642e+01,  4.50433481e+01, -9.56809102e+01,\n",
              "       -4.38347046e+01, -1.39505815e+02, -2.58076697e+01,  3.19627564e+01,\n",
              "        1.73227294e+01,  1.93578232e+01, -3.77682291e+00, -1.81812870e+01,\n",
              "        7.87903435e+01, -2.72836068e+01,  1.01469698e+01,  1.02757758e+01,\n",
              "        8.56346755e+01,  3.21378941e+01,  1.08596721e+02, -3.98115451e+01,\n",
              "        4.86688597e+01,  3.51909271e+01, -7.82000414e+01,  8.12829315e+01,\n",
              "        3.41586991e+00,  1.01322172e+02, -2.68438110e+01, -7.63199803e+00,\n",
              "        9.04580790e+01,  3.19130533e+01,  8.09643000e+00, -2.56375889e+01,\n",
              "        7.02587489e+01,  1.31027939e+01, -1.22735116e+02, -8.87733940e+00,\n",
              "       -5.31847252e+01,  3.62147007e+01, -2.99637230e+00,  5.94687649e+01,\n",
              "       -8.15057182e+01,  1.95523968e+01, -1.09282661e+02, -5.78978300e+01,\n",
              "       -1.07100114e+01, -2.23083437e+02,  6.15299903e+01,  5.89594513e+01,\n",
              "       -1.65972940e+01,  2.66213751e+01,  4.48249523e+01, -9.00442565e+01,\n",
              "        5.19346401e+01, -1.80640224e+01,  1.00548211e+01, -1.67094939e+01,\n",
              "       -3.04459974e+01,  2.41123368e+00,  4.55381120e+01,  2.30809753e+01,\n",
              "        1.60240416e+02, -2.01969592e+01, -3.48320487e+01,  4.98393188e+00,\n",
              "       -3.84865589e+01,  8.27142591e+01, -7.03069531e+01, -3.99676527e+01,\n",
              "       -1.26499952e+01,  3.87482493e+00,  1.73901516e+01, -8.35015540e+01,\n",
              "       -2.07307819e+01, -3.66901854e+01,  4.39916365e+01,  6.26774752e+01,\n",
              "       -1.02528952e+02,  9.39454134e+00, -2.16363216e+01, -7.26629795e+01,\n",
              "       -8.73001373e+01, -1.79889527e+01, -2.41272655e+01, -9.18484922e+01,\n",
              "        1.03036984e+01, -2.09968948e+01,  1.33204151e+02, -1.03385073e+02,\n",
              "        3.14380808e+01,  5.57302587e+01,  5.12818475e+00, -5.65302268e+01,\n",
              "        5.68514757e+01, -2.91036162e+01, -6.20265365e+01,  2.88404938e+01,\n",
              "        4.90382997e+01, -1.77848215e+01, -9.90899428e+01,  4.99287629e+01,\n",
              "       -4.77474018e+01,  1.00250499e+02,  7.84925924e+01,  4.46550910e+01,\n",
              "       -1.08680603e+02,  2.30748725e+01,  2.92396593e+01, -9.41338929e+00,\n",
              "       -6.97117001e+00,  3.91719671e+01, -5.97303537e+01,  4.36539026e+01,\n",
              "        8.59274816e+01, -9.01566164e+01,  4.88654747e+01,  8.85646390e+01,\n",
              "       -5.06351119e+01,  2.71816848e+01, -1.61114335e+01,  1.66145550e+01,\n",
              "        1.10938996e+02,  4.24937267e+00, -7.43885925e+00,  1.00027925e+02,\n",
              "        6.98123055e+01,  5.78318563e+01, -4.88558005e+01,  7.41213449e+01,\n",
              "       -1.57549640e+01,  5.07274470e+00,  3.82532086e+01,  8.49442741e+00,\n",
              "       -5.04036312e+01, -2.91497491e+01,  6.22423024e+01,  6.39389240e+01,\n",
              "       -6.87217195e+00, -5.22075263e+01, -5.38502183e+01,  6.51117774e+00,\n",
              "        7.96013391e+01,  3.75458375e+01, -1.90271492e+01, -2.09473976e+00,\n",
              "        6.55743127e+01,  1.36723792e+01,  5.11218797e+01,  3.57945524e+01,\n",
              "        5.03243801e+01,  8.13479380e+01, -1.60482499e+01,  2.33249642e+01,\n",
              "       -3.45547343e+01, -2.46459487e+01,  2.03739078e+01,  5.04067241e+01,\n",
              "       -5.88122507e+01, -4.02980720e+01, -5.79796680e+01, -3.84454672e+01,\n",
              "       -1.85646075e+01, -2.99565569e+01, -2.90641540e+01,  4.89958437e+01,\n",
              "        9.10142682e+01, -3.17210158e+01,  7.67781615e+01,  5.48013928e+01,\n",
              "       -7.18489198e+01, -7.97718435e+01,  6.73614711e+01, -7.96176985e+01,\n",
              "       -4.90108824e+01, -1.34942803e+01, -7.98079433e+00, -3.54072983e+01,\n",
              "       -5.28324692e+01,  1.89136508e+01,  1.06137216e+02,  1.18969771e+01,\n",
              "        7.21254103e+01, -8.33478588e+01,  1.38613970e+01, -7.66916735e+01,\n",
              "        6.42503202e+00, -1.25775037e+00,  3.94419696e+01, -3.73156352e+01,\n",
              "        5.57087438e+00,  2.27426418e+01,  1.61742603e+01, -4.33227227e+01,\n",
              "       -7.76603317e+01, -2.23872876e+01, -8.71292155e+01, -9.59712297e+01,\n",
              "       -2.76593666e+01,  7.15822091e+01, -6.60793765e+01, -9.08006418e+00,\n",
              "       -5.15686410e+00, -3.37091315e+01, -6.66419763e+00,  4.00273854e+01,\n",
              "        4.08920126e+01, -6.86547424e+01, -5.34561088e+01, -8.20728059e+00,\n",
              "        6.75276450e+01, -2.27568304e+01, -8.38047785e+01, -4.96438019e+01,\n",
              "        3.65511338e+00,  1.16198350e+02,  3.27941964e+01, -1.50969118e+01,\n",
              "       -1.74715355e+01,  6.55096532e+01, -1.45304367e+01, -1.87659820e+01,\n",
              "        1.72480850e+02,  2.85779895e+01,  1.68649294e+01, -8.36291556e+01])"
            ]
          },
          "metadata": {},
          "execution_count": 28
        }
      ]
    },
    {
      "cell_type": "code",
      "source": [
        "y_pred = knn.predict(X_test)"
      ],
      "metadata": {
        "id": "U_iJszNOr3T9"
      },
      "execution_count": 30,
      "outputs": []
    },
    {
      "cell_type": "code",
      "source": [
        "y_pred"
      ],
      "metadata": {
        "colab": {
          "base_uri": "https://localhost:8080/"
        },
        "id": "GNBA7um6sXEP",
        "outputId": "8b21eafe-23a4-4a3e-ac86-467ed312922d"
      },
      "execution_count": 31,
      "outputs": [
        {
          "output_type": "execute_result",
          "data": {
            "text/plain": [
              "array([ -13.33047541,   34.24730515,   44.53068331,  -51.04559095,\n",
              "        -18.87529991,   19.89939831,  -39.87644878,   22.33178234,\n",
              "         69.41437021,   -6.64604521,  -15.78762847,   83.98858453,\n",
              "         49.03422033,   43.75930798,  -31.99877252,   12.46078591,\n",
              "         44.90729879,   56.37052987,   71.4053543 ,   65.15466123,\n",
              "         10.7558589 ,   -3.79658122,    8.68674527,   20.30844786,\n",
              "         -9.60835386,    3.99821631,  -62.59391936,   19.87213445,\n",
              "        -53.83659468,  -28.65409697,   51.82169896,   76.18929422,\n",
              "         38.78795809,   53.7291247 ,   14.49775789,   -9.13412228,\n",
              "        -51.04499443,   -8.19030186,  -14.65938166,   24.93101763,\n",
              "        -78.03313574,   48.64854427,  -36.62337569,   40.64687167,\n",
              "         46.88291614,   45.43670731,   45.15682477,  -26.3881912 ,\n",
              "        -16.09499697,  -30.76495476,  -86.30105664,   42.11785113,\n",
              "         70.53508916,   45.86116252,   47.89367766,  -43.17662844,\n",
              "          9.25461018,   88.47295422,   34.88025529,  -26.16112458,\n",
              "        -49.01939257,   -5.01952527,   29.06231448,   -9.06923531,\n",
              "         49.76960264,  -35.34142573,  -55.13929003,   56.02811015,\n",
              "         -1.63947171,  -28.50985315,   70.07443929,   63.5746563 ,\n",
              "         24.24516424,   35.34756832,  -21.60229346,   68.29823848,\n",
              "        -59.05547175,   19.1632265 ,  -36.76599186,  -55.88772734,\n",
              "          7.43090159,   15.99603108,  -21.76837539,  -18.63590522,\n",
              "         12.91112682,   54.53520659,  -27.41303692,  -14.68449331,\n",
              "        -74.5190659 ,   22.74307901,   48.96308036,  -95.23017676,\n",
              "         -0.18752331,  -34.16284233,  -65.97777406,   22.24100705,\n",
              "        -10.67818188,   57.59495864,   48.178772  ,  -41.29870801,\n",
              "         22.65509928,   86.30966828,  -24.16116043,   64.0631233 ,\n",
              "         30.44109273,   80.71121736,  -97.39197875, -111.12575476,\n",
              "         18.41797241,   13.45561101,  -85.33462079,  -25.16586527,\n",
              "        -54.45110532,   15.33413937,   48.38935727,   -3.00917374,\n",
              "         76.84650207,  -50.08891568,    5.56549701,  -33.61143389,\n",
              "        -67.96349915,  -20.47610055,   24.14671914,   60.97831698,\n",
              "         58.18047905,   -9.61134604,   67.87736476,  -18.42869267,\n",
              "         69.37745201,  -56.15115423,  -54.3139024 ,   -8.5635397 ,\n",
              "         22.07171254,   30.63674435,  -35.77122526,  -67.78819306,\n",
              "         46.29865555,   43.27763653,  -30.6900328 ,   -7.52647778,\n",
              "         33.05964447,   70.708885  ,   59.05909483,   23.7721767 ,\n",
              "         15.73253235,   48.14485611,   58.50484222,    9.15787979,\n",
              "        -74.79671239,   81.51584906,   48.9790628 ,  -65.75163801,\n",
              "         -1.90807199, -105.44458318,  -17.01766178,  -35.69796715,\n",
              "        -41.55681786,  -75.88860007,  -10.95913824,  -10.70251313,\n",
              "        -35.39849372,  -27.28516854,   88.09130481,  -22.45359876,\n",
              "        -48.38101387,  -58.79174333,   26.69184754,    1.39967802,\n",
              "         28.11202071,   54.84470139,   12.13933602,  -34.94475309,\n",
              "         -5.51495222,   -5.24431822,   -5.11391528,   31.27202944,\n",
              "        -48.11177592,   21.39166202,   -7.17059131,  -76.32933065,\n",
              "         -6.20390897,  -38.80138942,  -96.14453022,   89.33883393,\n",
              "        -50.53027663,   22.55947132,  -14.03739204,   12.28414783,\n",
              "        -86.18952275,   71.23243061,    1.11614794,   33.51542914,\n",
              "        -87.34709707,  -31.78562992,  -21.40611892,   -0.48467386,\n",
              "         88.30559008,  -11.24752722,   66.8793744 ,   -5.00806232])"
            ]
          },
          "metadata": {},
          "execution_count": 31
        }
      ]
    },
    {
      "cell_type": "code",
      "source": [
        "y_test.shape"
      ],
      "metadata": {
        "colab": {
          "base_uri": "https://localhost:8080/"
        },
        "id": "Y5ZIsnqNscGx",
        "outputId": "447cca6e-1218-4c8c-f19c-1e7c8307d0e4"
      },
      "execution_count": 32,
      "outputs": [
        {
          "output_type": "execute_result",
          "data": {
            "text/plain": [
              "(200,)"
            ]
          },
          "metadata": {},
          "execution_count": 32
        }
      ]
    },
    {
      "cell_type": "code",
      "source": [
        "y_pred.shape"
      ],
      "metadata": {
        "colab": {
          "base_uri": "https://localhost:8080/"
        },
        "id": "PL4rGNYiskXZ",
        "outputId": "ffde5877-306c-4f33-dfcc-28e22d784867"
      },
      "execution_count": 33,
      "outputs": [
        {
          "output_type": "execute_result",
          "data": {
            "text/plain": [
              "(200,)"
            ]
          },
          "metadata": {},
          "execution_count": 33
        }
      ]
    },
    {
      "cell_type": "code",
      "source": [
        "# If they are float, convert them to discrete labels (e.g., using a threshold)\n",
        "# Example:\n",
        "threshold = 0  # Adjust this threshold as needed\n",
        "y_pred_discrete = (y_pred > threshold).astype(int)\n",
        "y_test_discrete = (y_test > threshold).astype(int)  # Assuming y_test is also continuous\n"
      ],
      "metadata": {
        "id": "wiIcMuCFsmjo"
      },
      "execution_count": 35,
      "outputs": []
    },
    {
      "cell_type": "code",
      "source": [
        "from sklearn.metrics import accuracy_score\n",
        "accuracy = accuracy_score(y_test_discrete, y_pred_discrete)\n",
        "accuracy"
      ],
      "metadata": {
        "colab": {
          "base_uri": "https://localhost:8080/"
        },
        "id": "erJb7vH-svxY",
        "outputId": "1e9acdee-9796-4b00-c729-f0772cb08713"
      },
      "execution_count": 37,
      "outputs": [
        {
          "output_type": "execute_result",
          "data": {
            "text/plain": [
              "0.965"
            ]
          },
          "metadata": {},
          "execution_count": 37
        }
      ]
    },
    {
      "cell_type": "code",
      "source": [
        "from sklearn.metrics import confusion_matrix\n",
        "confusion_matrix(y_pred_discrete, y_test_discrete)"
      ],
      "metadata": {
        "colab": {
          "base_uri": "https://localhost:8080/"
        },
        "id": "UY3grQAZtE4j",
        "outputId": "51a5ded3-04c3-489a-bc32-4ee7ba5b5266"
      },
      "execution_count": 38,
      "outputs": [
        {
          "output_type": "execute_result",
          "data": {
            "text/plain": [
              "array([[97,  3],\n",
              "       [ 4, 96]])"
            ]
          },
          "metadata": {},
          "execution_count": 38
        }
      ]
    },
    {
      "cell_type": "code",
      "source": [
        "#2nd method to fix the value of k i.e. by accuracy score\n",
        "accuracy = []\n",
        "for i in range(1, 28):\n",
        "  knn = KNeighborsRegressor(n_neighbors = i)\n",
        "  knn.fit(X_train, y_train)\n",
        "  threshold = 1 # Adjust this threshold as needed\n",
        "  y_pred_discrete = (y_pred > threshold).astype(int)\n",
        "  y_test_discrete = (y_test > threshold).astype(int)\n",
        "  accuracy.append(accuracy_score(y_test_discrete, y_pred_discrete))"
      ],
      "metadata": {
        "id": "5TR2O49atSj_"
      },
      "execution_count": 43,
      "outputs": []
    },
    {
      "cell_type": "code",
      "source": [
        "len(accuracy)"
      ],
      "metadata": {
        "colab": {
          "base_uri": "https://localhost:8080/"
        },
        "id": "CrR3W1yyvD_R",
        "outputId": "8c7e5c93-5ae2-4689-9a11-ad76f871a04c"
      },
      "execution_count": 40,
      "outputs": [
        {
          "output_type": "execute_result",
          "data": {
            "text/plain": [
              "27"
            ]
          },
          "metadata": {},
          "execution_count": 40
        }
      ]
    },
    {
      "cell_type": "code",
      "source": [
        "plt.plot(range(1, 28), accuracy)"
      ],
      "metadata": {
        "colab": {
          "base_uri": "https://localhost:8080/",
          "height": 447
        },
        "id": "wFCAWx6EvFeS",
        "outputId": "2af5d38a-4439-402c-99e5-b8b537f96e6b"
      },
      "execution_count": 44,
      "outputs": [
        {
          "output_type": "execute_result",
          "data": {
            "text/plain": [
              "[<matplotlib.lines.Line2D at 0x7fddf8a4d180>]"
            ]
          },
          "metadata": {},
          "execution_count": 44
        },
        {
          "output_type": "display_data",
          "data": {
            "text/plain": [
              "<Figure size 640x480 with 1 Axes>"
            ],
            "image/png": "[encoded data removed]"
          },
          "metadata": {}
        }
      ]
    },
    {
      "cell_type": "code",
      "source": [
        "knn = KNeighborsRegressor(n_neighbors = 15)\n",
        "knn.fit(X_train, y_train)"
      ],
      "metadata": {
        "colab": {
          "base_uri": "https://localhost:8080/",
          "height": 74
        },
        "id": "DNq5oDZBvKKX",
        "outputId": "1fcbece0-0308-45a2-c5f6-8c035c773b3e"
      },
      "execution_count": 45,
      "outputs": [
        {
          "output_type": "execute_result",
          "data": {
            "text/plain": [
              "KNeighborsRegressor(n_neighbors=15)"
            ],
            "text/html": [
              "<style>#sk-container-id-2 {color: black;}#sk-container-id-2 pre{padding: 0;}#sk-container-id-2 div.sk-toggleable {background-color: white;}#sk-container-id-2 label.sk-toggleable__label {cursor: pointer;display: block;width: 100%;margin-bottom: 0;padding: 0.3em;box-sizing: border-box;text-align: center;}#sk-container-id-2 label.sk-toggleable__label-arrow:before {content: \"▸\";float: left;margin-right: 0.25em;color: #696969;}#sk-container-id-2 label.sk-toggleable__label-arrow:hover:before {color: black;}#sk-container-id-2 div.sk-estimator:hover label.sk-toggleable__label-arrow:before {color: black;}#sk-container-id-2 div.sk-toggleable__content {max-height: 0;max-width: 0;overflow: hidden;text-align: left;background-color: #f0f8ff;}#sk-container-id-2 div.sk-toggleable__content pre {margin: 0.2em;color: black;border-radius: 0.25em;background-color: #f0f8ff;}#sk-container-id-2 input.sk-toggleable__control:checked~div.sk-toggleable__content {max-height: 200px;max-width: 100%;overflow: auto;}#sk-container-id-2 input.sk-toggleable__control:checked~label.sk-toggleable__label-arrow:before {content: \"▾\";}#sk-container-id-2 div.sk-estimator input.sk-toggleable__control:checked~label.sk-toggleable__label {background-color: #d4ebff;}#sk-container-id-2 div.sk-label input.sk-toggleable__control:checked~label.sk-toggleable__label {background-color: #d4ebff;}#sk-container-id-2 input.sk-hidden--visually {border: 0;clip: rect(1px 1px 1px 1px);clip: rect(1px, 1px, 1px, 1px);height: 1px;margin: -1px;overflow: hidden;padding: 0;position: absolute;width: 1px;}#sk-container-id-2 div.sk-estimator {font-family: monospace;background-color: #f0f8ff;border: 1px dotted black;border-radius: 0.25em;box-sizing: border-box;margin-bottom: 0.5em;}#sk-container-id-2 div.sk-estimator:hover {background-color: #d4ebff;}#sk-container-id-2 div.sk-parallel-item::after {content: \"\";width: 100%;border-bottom: 1px solid gray;flex-grow: 1;}#sk-container-id-2 div.sk-label:hover label.sk-toggleable__label {background-color: #d4ebff;}#sk-container-id-2 div.sk-serial::before {content: \"\";position: absolute;border-left: 1px solid gray;box-sizing: border-box;top: 0;bottom: 0;left: 50%;z-index: 0;}#sk-container-id-2 div.sk-serial {display: flex;flex-direction: column;align-items: center;background-color: white;padding-right: 0.2em;padding-left: 0.2em;position: relative;}#sk-container-id-2 div.sk-item {position: relative;z-index: 1;}#sk-container-id-2 div.sk-parallel {display: flex;align-items: stretch;justify-content: center;background-color: white;position: relative;}#sk-container-id-2 div.sk-item::before, #sk-container-id-2 div.sk-parallel-item::before {content: \"\";position: absolute;border-left: 1px solid gray;box-sizing: border-box;top: 0;bottom: 0;left: 50%;z-index: -1;}#sk-container-id-2 div.sk-parallel-item {display: flex;flex-direction: column;z-index: 1;position: relative;background-color: white;}#sk-container-id-2 div.sk-parallel-item:first-child::after {align-self: flex-end;width: 50%;}#sk-container-id-2 div.sk-parallel-item:last-child::after {align-self: flex-start;width: 50%;}#sk-container-id-2 div.sk-parallel-item:only-child::after {width: 0;}#sk-container-id-2 div.sk-dashed-wrapped {border: 1px dashed gray;margin: 0 0.4em 0.5em 0.4em;box-sizing: border-box;padding-bottom: 0.4em;background-color: white;}#sk-container-id-2 div.sk-label label {font-family: monospace;font-weight: bold;display: inline-block;line-height: 1.2em;}#sk-container-id-2 div.sk-label-container {text-align: center;}#sk-container-id-2 div.sk-container {/* jupyter's `normalize.less` sets `[hidden] { display: none; }` but bootstrap.min.css set `[hidden] { display: none !important; }` so we also need the `!important` here to be able to override the default hidden behavior on the sphinx rendered scikit-learn.org. See: https://github.com/scikit-learn/scikit-learn/issues/21755 */display: inline-block !important;position: relative;}#sk-container-id-2 div.sk-text-repr-fallback {display: none;}</style><div id=\"sk-container-id-2\" class=\"sk-top-container\"><div class=\"sk-text-repr-fallback\"><pre>KNeighborsRegressor(n_neighbors=15)</pre><b>In a Jupyter environment, please rerun this cell to show the HTML representation or trust the notebook. <br />On GitHub, the HTML representation is unable to render, please try loading this page with nbviewer.org.</b></div><div class=\"sk-container\" hidden><div class=\"sk-item\"><div class=\"sk-estimator sk-toggleable\"><input class=\"sk-toggleable__control sk-hidden--visually\" id=\"sk-estimator-id-2\" type=\"checkbox\" checked><label for=\"sk-estimator-id-2\" class=\"sk-toggleable__label sk-toggleable__label-arrow\">KNeighborsRegressor</label><div class=\"sk-toggleable__content\"><pre>KNeighborsRegressor(n_neighbors=15)</pre></div></div></div></div></div>"
            ]
          },
          "metadata": {},
          "execution_count": 45
        }
      ]
    },
    {
      "cell_type": "code",
      "source": [
        "threshold= 1\n",
        "y_pred_discrete = (y_pred > threshold).astype(int)\n",
        "y_test_discrete = (y_test > threshold).astype(int)"
      ],
      "metadata": {
        "id": "MiqbEY9kvdGL"
      },
      "execution_count": 46,
      "outputs": []
    },
    {
      "cell_type": "code",
      "source": [
        "accuracy = accuracy_score(y_test_discrete, y_pred_discrete)\n",
        "accuracy"
      ],
      "metadata": {
        "colab": {
          "base_uri": "https://localhost:8080/"
        },
        "id": "ma9AE8yAvjTz",
        "outputId": "5adc3bf7-29b3-40c2-ef33-08cbe9208953"
      },
      "execution_count": 47,
      "outputs": [
        {
          "output_type": "execute_result",
          "data": {
            "text/plain": [
              "0.96"
            ]
          },
          "metadata": {},
          "execution_count": 47
        }
      ]
    },
    {
      "cell_type": "code",
      "source": [
        "#trying to predict a value for a new user input\n"
      ],
      "metadata": {
        "id": "UWT2_rkAvm1-"
      },
      "execution_count": null,
      "outputs": []
    }
  ]
}